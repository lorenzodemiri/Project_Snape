{
 "metadata": {
  "language_info": {
   "codemirror_mode": {
    "name": "ipython",
    "version": 3
   },
   "file_extension": ".py",
   "mimetype": "text/x-python",
   "name": "python",
   "nbconvert_exporter": "python",
   "pygments_lexer": "ipython3",
   "version": "3.7.9-final"
  },
  "orig_nbformat": 2,
  "kernelspec": {
   "name": "python37964bitwebscrapingconda5dd7cefa095141818a3d3177a3640648",
   "display_name": "Python 3.7.9 64-bit ('web_scraping': conda)",
   "language": "python"
  }
 },
 "nbformat": 4,
 "nbformat_minor": 2,
 "cells": [
  {
   "cell_type": "code",
   "execution_count": 59,
   "metadata": {},
   "outputs": [],
   "source": [
    "import pandas as pd\n",
    "import numpy as np"
   ]
  },
  {
   "cell_type": "code",
   "execution_count": 9,
   "metadata": {
    "tags": []
   },
   "outputs": [
    {
     "output_type": "execute_result",
     "data": {
      "text/plain": [
       "                                   Title               Author  Rating Count  \\\n",
       "0                  To Kill a Mockingbird           Harper Lee       4629082   \n",
       "1                                   1984        George Orwell       3250211   \n",
       "2                       The Great Gatsby  F. Scott Fitzgerald       3877685   \n",
       "3  Harry Potter and the Sorcerer's Stone         J.K. Rowling       7281482   \n",
       "4    The Hobbit, or There and Back Again       J.R.R. Tolkien       2973224   \n",
       "\n",
       "   Review Count  Rating Value  N pag  1st Pub  series  \\\n",
       "0         92962          4.28  324.0   1960.0       1   \n",
       "1         72375          4.19  237.0   1949.0       0   \n",
       "2         68965          3.93  200.0   1925.0       0   \n",
       "3        115354          4.48  309.0   1997.0       1   \n",
       "4         49547          4.28  366.0   1937.0       1   \n",
       "\n",
       "                                       Genres  \\\n",
       "0       ['Classics', 'Fiction', 'Historical']   \n",
       "1  ['Classics', 'Fiction', 'Science Fiction']   \n",
       "2         ['Classics', 'Fiction', 'Academic']   \n",
       "3       ['Fantasy', 'Fiction', 'Young Adult']   \n",
       "4          ['Fantasy', 'Classics', 'Fiction']   \n",
       "\n",
       "                                              Awards  \\\n",
       "0  ['Pulitzer Prize for Fiction (1961)', 'Audie A...   \n",
       "1  ['Prometheus Hall of Fame Award (1984)', 'Locu...   \n",
       "2  ['Grammy Award Nominee for Best Spoken Word Al...   \n",
       "3  [\"Mythopoeic Fantasy Award for Children's Lite...   \n",
       "4  ['Keith Barker Millennium Book Award', 'Books ...   \n",
       "\n",
       "                                                Link  \n",
       "0  https://www.goodreads.com/book/show/2657.To_Ki...  \n",
       "1  https://www.goodreads.com/book/show/40961427-1984  \n",
       "2  https://www.goodreads.com/book/show/3.Harry_Po...  \n",
       "3  https://www.goodreads.com/book/show/4671.The_G...  \n",
       "4  https://www.goodreads.com/book/show/170448.Ani...  "
      ],
      "text/html": "<div>\n<style scoped>\n    .dataframe tbody tr th:only-of-type {\n        vertical-align: middle;\n    }\n\n    .dataframe tbody tr th {\n        vertical-align: top;\n    }\n\n    .dataframe thead th {\n        text-align: right;\n    }\n</style>\n<table border=\"1\" class=\"dataframe\">\n  <thead>\n    <tr style=\"text-align: right;\">\n      <th></th>\n      <th>Title</th>\n      <th>Author</th>\n      <th>Rating Count</th>\n      <th>Review Count</th>\n      <th>Rating Value</th>\n      <th>N pag</th>\n      <th>1st Pub</th>\n      <th>series</th>\n      <th>Genres</th>\n      <th>Awards</th>\n      <th>Link</th>\n    </tr>\n  </thead>\n  <tbody>\n    <tr>\n      <th>0</th>\n      <td>To Kill a Mockingbird</td>\n      <td>Harper Lee</td>\n      <td>4629082</td>\n      <td>92962</td>\n      <td>4.28</td>\n      <td>324.0</td>\n      <td>1960.0</td>\n      <td>1</td>\n      <td>['Classics', 'Fiction', 'Historical']</td>\n      <td>['Pulitzer Prize for Fiction (1961)', 'Audie A...</td>\n      <td>https://www.goodreads.com/book/show/2657.To_Ki...</td>\n    </tr>\n    <tr>\n      <th>1</th>\n      <td>1984</td>\n      <td>George Orwell</td>\n      <td>3250211</td>\n      <td>72375</td>\n      <td>4.19</td>\n      <td>237.0</td>\n      <td>1949.0</td>\n      <td>0</td>\n      <td>['Classics', 'Fiction', 'Science Fiction']</td>\n      <td>['Prometheus Hall of Fame Award (1984)', 'Locu...</td>\n      <td>https://www.goodreads.com/book/show/40961427-1984</td>\n    </tr>\n    <tr>\n      <th>2</th>\n      <td>The Great Gatsby</td>\n      <td>F. Scott Fitzgerald</td>\n      <td>3877685</td>\n      <td>68965</td>\n      <td>3.93</td>\n      <td>200.0</td>\n      <td>1925.0</td>\n      <td>0</td>\n      <td>['Classics', 'Fiction', 'Academic']</td>\n      <td>['Grammy Award Nominee for Best Spoken Word Al...</td>\n      <td>https://www.goodreads.com/book/show/3.Harry_Po...</td>\n    </tr>\n    <tr>\n      <th>3</th>\n      <td>Harry Potter and the Sorcerer's Stone</td>\n      <td>J.K. Rowling</td>\n      <td>7281482</td>\n      <td>115354</td>\n      <td>4.48</td>\n      <td>309.0</td>\n      <td>1997.0</td>\n      <td>1</td>\n      <td>['Fantasy', 'Fiction', 'Young Adult']</td>\n      <td>[\"Mythopoeic Fantasy Award for Children's Lite...</td>\n      <td>https://www.goodreads.com/book/show/4671.The_G...</td>\n    </tr>\n    <tr>\n      <th>4</th>\n      <td>The Hobbit, or There and Back Again</td>\n      <td>J.R.R. Tolkien</td>\n      <td>2973224</td>\n      <td>49547</td>\n      <td>4.28</td>\n      <td>366.0</td>\n      <td>1937.0</td>\n      <td>1</td>\n      <td>['Fantasy', 'Classics', 'Fiction']</td>\n      <td>['Keith Barker Millennium Book Award', 'Books ...</td>\n      <td>https://www.goodreads.com/book/show/170448.Ani...</td>\n    </tr>\n  </tbody>\n</table>\n</div>"
     },
     "metadata": {},
     "execution_count": 9
    }
   ],
   "source": [
    "df = pd.read_csv('./resources/Books.csv')\n",
    "df = df.drop(['Unnamed: 0'], axis = 1)\n",
    "df.head()"
   ]
  },
  {
   "cell_type": "code",
   "execution_count": 65,
   "metadata": {},
   "outputs": [],
   "source": [
    "max_rating = df['Rating Value'].max()\n",
    "min_rating = df['Rating Value'].min()\n",
    "range_of_ratings = max_rating - min_rating\n",
    "\n",
    "df['minmax_norm_ratings'] = round(1 + 9*((df['Rating Value'] - min_rating)/range_of_ratings) , 3)\n",
    "\n",
    "mean_rating = df['Rating Value'].mean()\n",
    "\n",
    "df['mean_norm_ratings'] = round(1 + 9*((df['Rating Value'] - mean_rating)/range_of_ratings) , 3)\n",
    "df.head()\n",
    "df.to_csv('books.csv')"
   ]
  }
 ]
}