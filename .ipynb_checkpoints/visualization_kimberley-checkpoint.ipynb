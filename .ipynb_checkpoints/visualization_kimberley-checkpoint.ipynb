{
 "cells": [
  {
   "cell_type": "code",
   "execution_count": 6,
   "metadata": {
    "cell_id": "00000-461c753d-221d-4c2c-a2f4-8a7bbb926978",
    "deepnote_cell_type": "code",
    "deepnote_to_be_reexecuted": false,
    "execution_millis": 0,
    "execution_start": 1610537133581,
    "source_hash": "bf973444",
    "tags": []
   },
   "outputs": [],
   "source": [
    "\n",
    "%matplotlib inline\n",
    "import matplotlib.pyplot as plt\n",
    "import pandas as pd\n",
    "import numpy as np\n",
    "import seaborn as sns\n",
    "import statsmodels.api as sm\n"
   ]
  },
  {
   "cell_type": "code",
   "execution_count": 7,
   "metadata": {
    "cell_id": "00001-11cd7d06-e91b-4476-9621-7de881993ea5",
    "deepnote_cell_type": "code",
    "deepnote_to_be_reexecuted": false,
    "execution_millis": 3,
    "execution_start": 1610537136129,
    "source_hash": "8a827981",
    "tags": []
   },
   "outputs": [],
   "source": [
    "df = pd.read_csv(\"./Resources/Books.csv\")"
   ]
  },
  {
   "cell_type": "code",
   "execution_count": 8,
   "metadata": {
    "cell_id": "00002-563030b4-9fd1-44af-aaac-92e8969a4c9a",
    "deepnote_cell_type": "code",
    "deepnote_to_be_reexecuted": false,
    "execution_millis": 197,
    "execution_start": 1610537140320,
    "source_hash": "f804c160",
    "tags": []
   },
   "outputs": [
    {
     "data": {
      "application/vnd.deepnote.dataframe.v2+json": {
       "column_count": 14,
       "columns": [
        {
         "dtype": "int64",
         "name": "Unnamed: 0",
         "stats": {
          "histogram": [
           {
            "bin_end": 99.5,
            "bin_start": 0,
            "count": 100
           },
           {
            "bin_end": 199,
            "bin_start": 99.5,
            "count": 99
           },
           {
            "bin_end": 298.5,
            "bin_start": 199,
            "count": 100
           },
           {
            "bin_end": 398,
            "bin_start": 298.5,
            "count": 99
           },
           {
            "bin_end": 497.5,
            "bin_start": 398,
            "count": 100
           },
           {
            "bin_end": 597,
            "bin_start": 497.5,
            "count": 99
           },
           {
            "bin_end": 696.5,
            "bin_start": 597,
            "count": 100
           },
           {
            "bin_end": 796,
            "bin_start": 696.5,
            "count": 99
           },
           {
            "bin_end": 895.5,
            "bin_start": 796,
            "count": 100
           },
           {
            "bin_end": 995,
            "bin_start": 895.5,
            "count": 100
           }
          ],
          "max": 995,
          "min": 0,
          "nan_count": 0,
          "unique_count": 996
         }
        },
        {
         "dtype": "object",
         "name": "Title",
         "stats": {
          "categories": [
           {
            "count": 2,
            "name": "The Complete Stories"
           },
           {
            "count": 2,
            "name": "Collected Poems"
           },
           {
            "count": 992,
            "name": "992 others"
           }
          ],
          "nan_count": 0,
          "unique_count": 994
         }
        },
        {
         "dtype": "object",
         "name": "Author",
         "stats": {
          "categories": [
           {
            "count": 19,
            "name": "Stephen King"
           },
           {
            "count": 13,
            "name": "C.S. Lewis"
           },
           {
            "count": 964,
            "name": "587 others"
           }
          ],
          "nan_count": 0,
          "unique_count": 589
         }
        },
        {
         "dtype": "int64",
         "name": "Rating Count",
         "stats": {
          "histogram": [
           {
            "bin_end": 728503.7,
            "bin_start": 395,
            "count": 938
           },
           {
            "bin_end": 1456612.4,
            "bin_start": 728503.7,
            "count": 34
           },
           {
            "bin_end": 2184721.0999999996,
            "bin_start": 1456612.4,
            "count": 9
           },
           {
            "bin_end": 2912829.8,
            "bin_start": 2184721.0999999996,
            "count": 10
           },
           {
            "bin_end": 3640938.5,
            "bin_start": 2912829.8,
            "count": 2
           },
           {
            "bin_end": 4369047.199999999,
            "bin_start": 3640938.5,
            "count": 1
           },
           {
            "bin_end": 5097155.899999999,
            "bin_start": 4369047.199999999,
            "count": 1
           },
           {
            "bin_end": 5825264.6,
            "bin_start": 5097155.899999999,
            "count": 0
           },
           {
            "bin_end": 6553373.3,
            "bin_start": 5825264.6,
            "count": 0
           },
           {
            "bin_end": 7281482,
            "bin_start": 6553373.3,
            "count": 1
           }
          ],
          "max": 7281482,
          "min": 395,
          "nan_count": 0,
          "unique_count": 995
         }
        },
        {
         "dtype": "int64",
         "name": "Review Count",
         "stats": {
          "histogram": [
           {
            "bin_end": 11542.6,
            "bin_start": 8,
            "count": 860
           },
           {
            "bin_end": 23077.2,
            "bin_start": 11542.6,
            "count": 86
           },
           {
            "bin_end": 34611.8,
            "bin_start": 23077.2,
            "count": 28
           },
           {
            "bin_end": 46146.4,
            "bin_start": 34611.8,
            "count": 6
           },
           {
            "bin_end": 57681,
            "bin_start": 46146.4,
            "count": 6
           },
           {
            "bin_end": 69215.6,
            "bin_start": 57681,
            "count": 5
           },
           {
            "bin_end": 80750.2,
            "bin_start": 69215.6,
            "count": 2
           },
           {
            "bin_end": 92284.8,
            "bin_start": 80750.2,
            "count": 1
           },
           {
            "bin_end": 103819.40000000001,
            "bin_start": 92284.8,
            "count": 1
           },
           {
            "bin_end": 115354,
            "bin_start": 103819.40000000001,
            "count": 1
           }
          ],
          "max": 115354,
          "min": 8,
          "nan_count": 0,
          "unique_count": 952
         }
        },
        {
         "dtype": "float64",
         "name": "Rating Value",
         "stats": {
          "histogram": [
           {
            "bin_end": 3.319,
            "bin_start": 3.17,
            "count": 1
           },
           {
            "bin_end": 3.468,
            "bin_start": 3.319,
            "count": 2
           },
           {
            "bin_end": 3.617,
            "bin_start": 3.468,
            "count": 12
           },
           {
            "bin_end": 3.766,
            "bin_start": 3.617,
            "count": 65
           },
           {
            "bin_end": 3.915,
            "bin_start": 3.766,
            "count": 154
           },
           {
            "bin_end": 4.064,
            "bin_start": 3.915,
            "count": 257
           },
           {
            "bin_end": 4.213,
            "bin_start": 4.064,
            "count": 272
           },
           {
            "bin_end": 4.362,
            "bin_start": 4.213,
            "count": 178
           },
           {
            "bin_end": 4.511,
            "bin_start": 4.362,
            "count": 47
           },
           {
            "bin_end": 4.66,
            "bin_start": 4.511,
            "count": 8
           }
          ],
          "max": 4.66,
          "min": 3.17,
          "nan_count": 0,
          "unique_count": 106
         }
        },
        {
         "dtype": "float64",
         "name": "N pag",
         "stats": {
          "histogram": [
           {
            "bin_end": 1498.4,
            "bin_start": 23,
            "count": 988
           },
           {
            "bin_end": 2973.8,
            "bin_start": 1498.4,
            "count": 4
           },
           {
            "bin_end": 4449.200000000001,
            "bin_start": 2973.8,
            "count": 1
           },
           {
            "bin_end": 5924.6,
            "bin_start": 4449.200000000001,
            "count": 0
           },
           {
            "bin_end": 7400,
            "bin_start": 5924.6,
            "count": 0
           },
           {
            "bin_end": 8875.400000000001,
            "bin_start": 7400,
            "count": 0
           },
           {
            "bin_end": 10350.800000000001,
            "bin_start": 8875.400000000001,
            "count": 0
           },
           {
            "bin_end": 11826.2,
            "bin_start": 10350.800000000001,
            "count": 0
           },
           {
            "bin_end": 13301.6,
            "bin_start": 11826.2,
            "count": 0
           },
           {
            "bin_end": 14777,
            "bin_start": 13301.6,
            "count": 1
           }
          ],
          "max": 14777,
          "min": 23,
          "nan_count": 2,
          "unique_count": 493
         }
        },
        {
         "dtype": "float64",
         "name": "1st Pub",
         "stats": {
          "histogram": [
           {
            "bin_end": 1910.3,
            "bin_start": 1900,
            "count": 32
           },
           {
            "bin_end": 1920.6,
            "bin_start": 1910.3,
            "count": 32
           },
           {
            "bin_end": 1930.9,
            "bin_start": 1920.6,
            "count": 59
           },
           {
            "bin_end": 1941.2,
            "bin_start": 1930.9,
            "count": 75
           },
           {
            "bin_end": 1951.5,
            "bin_start": 1941.2,
            "count": 88
           },
           {
            "bin_end": 1961.8,
            "bin_start": 1951.5,
            "count": 126
           },
           {
            "bin_end": 1972.1,
            "bin_start": 1961.8,
            "count": 128
           },
           {
            "bin_end": 1982.4,
            "bin_start": 1972.1,
            "count": 143
           },
           {
            "bin_end": 1992.7,
            "bin_start": 1982.4,
            "count": 150
           },
           {
            "bin_end": 2003,
            "bin_start": 1992.7,
            "count": 142
           }
          ],
          "max": 2003,
          "min": 1900,
          "nan_count": 21,
          "unique_count": 102
         }
        },
        {
         "dtype": "int64",
         "name": "series",
         "stats": {
          "histogram": [
           {
            "bin_end": 0.1,
            "bin_start": 0,
            "count": 645
           },
           {
            "bin_end": 0.2,
            "bin_start": 0.1,
            "count": 0
           },
           {
            "bin_end": 0.30000000000000004,
            "bin_start": 0.2,
            "count": 0
           },
           {
            "bin_end": 0.4,
            "bin_start": 0.30000000000000004,
            "count": 0
           },
           {
            "bin_end": 0.5,
            "bin_start": 0.4,
            "count": 0
           },
           {
            "bin_end": 0.6000000000000001,
            "bin_start": 0.5,
            "count": 0
           },
           {
            "bin_end": 0.7000000000000001,
            "bin_start": 0.6000000000000001,
            "count": 0
           },
           {
            "bin_end": 0.8,
            "bin_start": 0.7000000000000001,
            "count": 0
           },
           {
            "bin_end": 0.9,
            "bin_start": 0.8,
            "count": 0
           },
           {
            "bin_end": 1,
            "bin_start": 0.9,
            "count": 351
           }
          ],
          "max": 1,
          "min": 0,
          "nan_count": 0,
          "unique_count": 2
         }
        },
        {
         "dtype": "object",
         "name": "Genres",
         "stats": {
          "categories": [
           {
            "count": 54,
            "name": "['Historical', 'Historical Fiction', 'Fiction']"
           },
           {
            "count": 46,
            "name": "['Fiction', 'Historical', 'Historical Fiction']"
           },
           {
            "count": 896,
            "name": "344 others"
           }
          ],
          "nan_count": 0,
          "unique_count": 346
         }
        },
        {
         "dtype": "float64",
         "name": "Awards",
         "stats": {
          "histogram": [
           {
            "bin_end": 3.7,
            "bin_start": 1,
            "count": 415
           },
           {
            "bin_end": 6.4,
            "bin_start": 3.7,
            "count": 92
           },
           {
            "bin_end": 9.100000000000001,
            "bin_start": 6.4,
            "count": 27
           },
           {
            "bin_end": 11.8,
            "bin_start": 9.100000000000001,
            "count": 5
           },
           {
            "bin_end": 14.5,
            "bin_start": 11.8,
            "count": 4
           },
           {
            "bin_end": 17.200000000000003,
            "bin_start": 14.5,
            "count": 3
           },
           {
            "bin_end": 19.900000000000002,
            "bin_start": 17.200000000000003,
            "count": 0
           },
           {
            "bin_end": 22.6,
            "bin_start": 19.900000000000002,
            "count": 3
           },
           {
            "bin_end": 25.3,
            "bin_start": 22.6,
            "count": 0
           },
           {
            "bin_end": 28,
            "bin_start": 25.3,
            "count": 1
           }
          ],
          "max": 28,
          "min": 1,
          "nan_count": 446,
          "unique_count": 17
         }
        },
        {
         "dtype": "float64",
         "name": "minmax_norm_ratings",
         "stats": {
          "histogram": [
           {
            "bin_end": 1.9,
            "bin_start": 1,
            "count": 1
           },
           {
            "bin_end": 2.8,
            "bin_start": 1.9,
            "count": 2
           },
           {
            "bin_end": 3.7,
            "bin_start": 2.8,
            "count": 12
           },
           {
            "bin_end": 4.6,
            "bin_start": 3.7,
            "count": 65
           },
           {
            "bin_end": 5.5,
            "bin_start": 4.6,
            "count": 154
           },
           {
            "bin_end": 6.4,
            "bin_start": 5.5,
            "count": 257
           },
           {
            "bin_end": 7.3,
            "bin_start": 6.4,
            "count": 272
           },
           {
            "bin_end": 8.2,
            "bin_start": 7.3,
            "count": 178
           },
           {
            "bin_end": 9.1,
            "bin_start": 8.2,
            "count": 47
           },
           {
            "bin_end": 10,
            "bin_start": 9.1,
            "count": 8
           }
          ],
          "max": 10,
          "min": 1,
          "nan_count": 0,
          "unique_count": 106
         }
        },
        {
         "dtype": "float64",
         "name": "mean_norm_ratings",
         "stats": {
          "histogram": [
           {
            "bin_end": 1,
            "bin_start": 0,
            "count": 1
           },
           {
            "bin_end": 2,
            "bin_start": 1,
            "count": 2
           },
           {
            "bin_end": 3,
            "bin_start": 2,
            "count": 12
           },
           {
            "bin_end": 4,
            "bin_start": 3,
            "count": 65
           },
           {
            "bin_end": 5,
            "bin_start": 4,
            "count": 154
           },
           {
            "bin_end": 6,
            "bin_start": 5,
            "count": 257
           },
           {
            "bin_end": 7,
            "bin_start": 6,
            "count": 272
           },
           {
            "bin_end": 8,
            "bin_start": 7,
            "count": 178
           },
           {
            "bin_end": 9,
            "bin_start": 8,
            "count": 47
           },
           {
            "bin_end": 10,
            "bin_start": 9,
            "count": 8
           }
          ],
          "max": 10,
          "min": 0,
          "nan_count": 0,
          "unique_count": 106
         }
        },
        {
         "dtype": "object",
         "name": "Link",
         "stats": {
          "categories": [
           {
            "count": 1,
            "name": "https://www.goodreads.com/book/show/2657.To_Kill_a_Mockingbird"
           },
           {
            "count": 1,
            "name": "https://www.goodreads.com/book/show/40961427-1984"
           },
           {
            "count": 994,
            "name": "994 others"
           }
          ],
          "nan_count": 0,
          "unique_count": 996
         }
        },
        {
         "dtype": "int64",
         "name": "_deepnote_index_column"
        }
       ],
       "row_count": 996,
       "rows_bottom": [
        {
         "1st Pub": "1973.0",
         "Author": "Mary  Stewart",
         "Awards": "1.0",
         "Genres": "['Fantasy', 'Fiction', 'Historical']",
         "Link": "https://www.goodreads.com/book/show/116343.The_Hollow_Hills",
         "N pag": 475,
         "Rating Count": 20540,
         "Rating Value": 4.24,
         "Review Count": 537,
         "Title": "The Hollow Hills",
         "Unnamed: 0": 960,
         "_deepnote_index_column": 960,
         "mean_norm_ratings": 7.18111111111111,
         "minmax_norm_ratings": 7.462999999999999,
         "series": 1
        },
        {
         "1st Pub": "1973.0",
         "Author": "Rita Mae Brown",
         "Awards": "1.0",
         "Genres": "['Fiction', 'LGBT', 'GLBT']",
         "Link": "https://www.goodreads.com/book/show/31338.Memnoch_the_Devil",
         "N pag": 246,
         "Rating Count": 32896,
         "Rating Value": 3.92,
         "Review Count": 1352,
         "Title": "Rubyfruit Jungle",
         "Unnamed: 0": 961,
         "_deepnote_index_column": 961,
         "mean_norm_ratings": 5.033333333333333,
         "minmax_norm_ratings": 5.53,
         "series": 0
        },
        {
         "1st Pub": "1995.0",
         "Author": "Anne Rice",
         "Awards": "nan",
         "Genres": "['Horror', 'Fantasy', 'Paranormal']",
         "Link": "https://www.goodreads.com/book/show/165395.Rubyfruit_Jungle",
         "N pag": 354,
         "Rating Count": 75399,
         "Rating Value": 3.75,
         "Review Count": 1683,
         "Title": "Memnoch the Devil",
         "Unnamed: 0": 962,
         "_deepnote_index_column": 962,
         "mean_norm_ratings": 3.8922222222222214,
         "minmax_norm_ratings": 4.503,
         "series": 1
        },
        {
         "1st Pub": "1956.0",
         "Author": "Arthur C. Clarke",
         "Awards": "1.0",
         "Genres": "['Science Fiction', 'Fiction', 'Classics']",
         "Link": "https://www.goodreads.com/book/show/72659.Never_Cry_Wolf",
         "N pag": 255,
         "Rating Count": 28817,
         "Rating Value": 4.08,
         "Review Count": 1082,
         "Title": "The City and the Stars",
         "Unnamed: 0": 963,
         "_deepnote_index_column": 963,
         "mean_norm_ratings": 6.1066666666666665,
         "minmax_norm_ratings": 6.497000000000001,
         "series": 0
        },
        {
         "1st Pub": "1963.0",
         "Author": "Farley Mowat",
         "Awards": "nan",
         "Genres": "['Nonfiction', 'Animals', 'Environment']",
         "Link": "https://www.goodreads.com/book/show/250024.The_City_and_the_Stars",
         "N pag": 246,
         "Rating Count": 22095,
         "Rating Value": 4.2,
         "Review Count": 1101,
         "Title": "Never Cry Wolf: The Amazing True Story of Life Among Arctic Wolves",
         "Unnamed: 0": 964,
         "_deepnote_index_column": 964,
         "mean_norm_ratings": 6.912222222222222,
         "minmax_norm_ratings": 7.221,
         "series": 0
        },
        {
         "1st Pub": "1990.0",
         "Author": "Jean M. Auel",
         "Awards": "nan",
         "Genres": "['Historical', 'Historical Fiction', 'Fiction']",
         "Link": "https://www.goodreads.com/book/show/15836.Fugitive_Pieces",
         "N pag": 865,
         "Rating Count": 51101,
         "Rating Value": 3.8,
         "Review Count": 1311,
         "Title": "The Plains of Passage",
         "Unnamed: 0": 965,
         "_deepnote_index_column": 965,
         "mean_norm_ratings": 4.227777777777779,
         "minmax_norm_ratings": 4.805,
         "series": 1
        },
        {
         "1st Pub": "1996.0",
         "Author": "Anne Michaels",
         "Awards": "7.0",
         "Genres": "['Fiction', 'Historical', 'Historical Fiction']",
         "Link": "https://www.goodreads.com/book/show/226748.The_Plains_of_Passage",
         "N pag": 304,
         "Rating Count": 14073,
         "Rating Value": 3.94,
         "Review Count": 1198,
         "Title": "Fugitive Pieces",
         "Unnamed: 0": 966,
         "_deepnote_index_column": 966,
         "mean_norm_ratings": 5.167777777777777,
         "minmax_norm_ratings": 5.651,
         "series": 0
        },
        {
         "1st Pub": "1961.0",
         "Author": "Frantz Fanon",
         "Awards": "nan",
         "Genres": "['Nonfiction', 'History', 'Politics']",
         "Link": "https://www.goodreads.com/book/show/66933.The_Wretched_of_the_Earth",
         "N pag": 320,
         "Rating Count": 18174,
         "Rating Value": 4.24,
         "Review Count": 812,
         "Title": "The Wretched of the Earth",
         "Unnamed: 0": 967,
         "_deepnote_index_column": 967,
         "mean_norm_ratings": 7.18111111111111,
         "minmax_norm_ratings": 7.462999999999999,
         "series": 0
        },
        {
         "1st Pub": "1966.0",
         "Author": "Shūsaku Endō",
         "Awards": "1.0",
         "Genres": "['Fiction', 'Historical', 'Historical Fiction']",
         "Link": "https://www.goodreads.com/book/show/25200.Silence",
         "N pag": 219,
         "Rating Count": 24995,
         "Rating Value": 4.09,
         "Review Count": 3257,
         "Title": "Silence",
         "Unnamed: 0": 968,
         "_deepnote_index_column": 968,
         "mean_norm_ratings": 6.1744444444444415,
         "minmax_norm_ratings": 6.557,
         "series": 0
        },
        {
         "1st Pub": "1977.0",
         "Author": "Frederik Pohl",
         "Awards": "6.0",
         "Genres": "['Science Fiction', 'Fiction', 'Space']",
         "Link": "https://www.goodreads.com/book/show/11422.Redeeming_Love",
         "N pag": 278,
         "Rating Count": 40279,
         "Rating Value": 4.07,
         "Review Count": 1609,
         "Title": "Gateway",
         "Unnamed: 0": 969,
         "_deepnote_index_column": 969,
         "mean_norm_ratings": 6.04,
         "minmax_norm_ratings": 6.436,
         "series": 1
        },
        {
         "1st Pub": "1991.0",
         "Author": "Francine Rivers",
         "Awards": "nan",
         "Genres": "['Christian Fiction', 'Christian', 'Fiction']",
         "Link": "https://www.goodreads.com/book/show/218427.Gateway",
         "N pag": 479,
         "Rating Count": 218405,
         "Rating Value": 4.5,
         "Review Count": 12013,
         "Title": "Redeeming Love",
         "Unnamed: 0": 970,
         "_deepnote_index_column": 970,
         "mean_norm_ratings": 8.925555555555555,
         "minmax_norm_ratings": 9.033999999999999,
         "series": 0
        },
        {
         "1st Pub": "1970.0",
         "Author": "Alvin Toffler",
         "Awards": "nan",
         "Genres": "['Nonfiction', 'Sociology', 'Science']",
         "Link": "https://www.goodreads.com/book/show/1499952.Daddy_Long_Legs",
         "N pag": 430,
         "Rating Count": 4297,
         "Rating Value": 3.8,
         "Review Count": 311,
         "Title": "Future Shock",
         "Unnamed: 0": 971,
         "_deepnote_index_column": 971,
         "mean_norm_ratings": 4.227777777777779,
         "minmax_norm_ratings": 4.805,
         "series": 0
        },
        {
         "1st Pub": "nan",
         "Author": "Jean Webster",
         "Awards": "nan",
         "Genres": "['Classics', 'Fiction', 'Young Adult']",
         "Link": "https://www.goodreads.com/book/show/466537.Future_Shock",
         "N pag": 249,
         "Rating Count": 45924,
         "Rating Value": 4.15,
         "Review Count": 5636,
         "Title": "Daddy-Long-Legs",
         "Unnamed: 0": 972,
         "_deepnote_index_column": 972,
         "mean_norm_ratings": 6.576666666666666,
         "minmax_norm_ratings": 6.919,
         "series": 1
        },
        {
         "1st Pub": "1947.0",
         "Author": "John Steinbeck",
         "Awards": "nan",
         "Genres": "['Fiction', 'Classics', 'Literature']",
         "Link": "https://www.goodreads.com/book/show/116114.From_Here_to_Eternity",
         "N pag": 181,
         "Rating Count": 1611,
         "Rating Value": 3.67,
         "Review Count": 46,
         "Title": "The Pearl/The Red Pony",
         "Unnamed: 0": 973,
         "_deepnote_index_column": 973,
         "mean_norm_ratings": 3.355555555555555,
         "minmax_norm_ratings": 4.02,
         "series": 0
        },
        {
         "1st Pub": "1951.0",
         "Author": "James  Jones",
         "Awards": "1.0",
         "Genres": "['Fiction', 'Classics', 'Historical']",
         "Link": "https://www.goodreads.com/book/show/14349.The_Pearl_The_Red_Pony",
         "N pag": 816,
         "Rating Count": 16056,
         "Rating Value": 4.09,
         "Review Count": 492,
         "Title": "From Here to Eternity",
         "Unnamed: 0": 974,
         "_deepnote_index_column": 974,
         "mean_norm_ratings": 6.1744444444444415,
         "minmax_norm_ratings": 6.557,
         "series": 1
        },
        {
         "1st Pub": "1943.0",
         "Author": "Jean Genet",
         "Awards": "1.0",
         "Genres": "['Fiction', 'Cultural', 'France']",
         "Link": "https://www.goodreads.com/book/show/50144.Kitchen",
         "N pag": 216,
         "Rating Count": 5298,
         "Rating Value": 4.02,
         "Review Count": 273,
         "Title": "Our Lady of the Flowers",
         "Unnamed: 0": 975,
         "_deepnote_index_column": 975,
         "mean_norm_ratings": 5.704444444444443,
         "minmax_norm_ratings": 6.1339999999999995,
         "series": 0
        },
        {
         "1st Pub": "1988.0",
         "Author": "Banana Yoshimoto",
         "Awards": "3.0",
         "Genres": "['Fiction', 'Cultural', 'Japan']",
         "Link": "https://www.goodreads.com/book/show/53003.Our_Lady_of_the_Flowers",
         "N pag": 160,
         "Rating Count": 50342,
         "Rating Value": 3.86,
         "Review Count": 4270,
         "Title": "Kitchen",
         "Unnamed: 0": 976,
         "_deepnote_index_column": 976,
         "mean_norm_ratings": 4.63111111111111,
         "minmax_norm_ratings": 5.167999999999999,
         "series": 0
        },
        {
         "1st Pub": "1953.0",
         "Author": "Jean Giono",
         "Awards": "nan",
         "Genres": "['Fiction', 'Short Stories', 'Classics']",
         "Link": "https://www.goodreads.com/book/show/757438.The_Man_Who_Planted_Trees",
         "N pag": 74,
         "Rating Count": 8727,
         "Rating Value": 4.24,
         "Review Count": 992,
         "Title": "The Man Who Planted Trees",
         "Unnamed: 0": 977,
         "_deepnote_index_column": 977,
         "mean_norm_ratings": 7.18111111111111,
         "minmax_norm_ratings": 7.462999999999999,
         "series": 0
        },
        {
         "1st Pub": "1991.0",
         "Author": "Victor Villaseñor",
         "Awards": "nan",
         "Genres": "['Fiction', 'Historical', 'Historical Fiction']",
         "Link": "https://www.goodreads.com/book/show/14345.Rain_of_Gold",
         "N pag": 576,
         "Rating Count": 6744,
         "Rating Value": 4.49,
         "Review Count": 711,
         "Title": "Rain of Gold",
         "Unnamed: 0": 978,
         "_deepnote_index_column": 978,
         "mean_norm_ratings": 8.858888888888886,
         "minmax_norm_ratings": 8.972999999999999,
         "series": 0
        },
        {
         "1st Pub": "1951.0",
         "Author": "Josephine Tey",
         "Awards": "1.0",
         "Genres": "['Mystery', 'Historical', 'Historical Fiction']",
         "Link": "https://www.goodreads.com/book/show/16948.Children_of_God",
         "N pag": 206,
         "Rating Count": 24391,
         "Rating Value": 3.92,
         "Review Count": 3160,
         "Title": "The Daughter of Time",
         "Unnamed: 0": 979,
         "_deepnote_index_column": 979,
         "mean_norm_ratings": 5.033333333333333,
         "minmax_norm_ratings": 5.53,
         "series": 1
        },
        {
         "1st Pub": "1998.0",
         "Author": "Mary Doria Russell",
         "Awards": "2.0",
         "Genres": "['Science Fiction', 'Fiction', 'Religion']",
         "Link": "https://www.goodreads.com/book/show/77661.The_Daughter_of_Time",
         "N pag": 451,
         "Rating Count": 17910,
         "Rating Value": 4.07,
         "Review Count": 1683,
         "Title": "Children of God",
         "Unnamed: 0": 980,
         "_deepnote_index_column": 980,
         "mean_norm_ratings": 6.04,
         "minmax_norm_ratings": 6.436,
         "series": 1
        },
        {
         "1st Pub": "1968.0",
         "Author": "Yukio Mishima",
         "Awards": "1.0",
         "Genres": "['Fiction', 'Cultural', 'Japan']",
         "Link": "https://www.goodreads.com/book/show/119829.The_Sunne_in_Splendour",
         "N pag": 389,
         "Rating Count": 12642,
         "Rating Value": 4.15,
         "Review Count": 952,
         "Title": "Spring Snow",
         "Unnamed: 0": 981,
         "_deepnote_index_column": 981,
         "mean_norm_ratings": 6.576666666666666,
         "minmax_norm_ratings": 6.919,
         "series": 1
        },
        {
         "1st Pub": "1982.0",
         "Author": "Sharon Kay Penman",
         "Awards": "nan",
         "Genres": "['Historical', 'Historical Fiction', 'Fiction']",
         "Link": "https://www.goodreads.com/book/show/62793.Spring_Snow",
         "N pag": 936,
         "Rating Count": 20072,
         "Rating Value": 4.38,
         "Review Count": 1251,
         "Title": "The Sunne in Splendour",
         "Unnamed: 0": 982,
         "_deepnote_index_column": 982,
         "mean_norm_ratings": 8.12,
         "minmax_norm_ratings": 8.309,
         "series": 0
        },
        {
         "1st Pub": "1986.0",
         "Author": "Scott Turow",
         "Awards": "2.0",
         "Genres": "['Mystery', 'Fiction', 'Thriller']",
         "Link": "https://www.goodreads.com/book/show/71292.Asterix_the_Gaul",
         "N pag": 421,
         "Rating Count": 108045,
         "Rating Value": 4.1,
         "Review Count": 1582,
         "Title": "Presumed Innocent",
         "Unnamed: 0": 983,
         "_deepnote_index_column": 983,
         "mean_norm_ratings": 6.2411111111111115,
         "minmax_norm_ratings": 6.617000000000001,
         "series": 1
        },
        {
         "1st Pub": "1961.0",
         "Author": "René Goscinny",
         "Awards": "nan",
         "Genres": "['Sequential Art', 'Comics', 'Sequential Art']",
         "Link": "https://www.goodreads.com/book/show/425029.Presumed_Innocent",
         "N pag": 48,
         "Rating Count": 24125,
         "Rating Value": 4.18,
         "Review Count": 574,
         "Title": "Asterix the Gaul",
         "Unnamed: 0": 984,
         "_deepnote_index_column": 984,
         "mean_norm_ratings": 6.777777777777778,
         "minmax_norm_ratings": 7.101,
         "series": 1
        },
        {
         "1st Pub": "1982.0",
         "Author": "Anne Tyler",
         "Awards": "5.0",
         "Genres": "['Fiction', 'Contemporary', 'Literary Fiction']",
         "Link": "https://www.goodreads.com/book/show/77699.Dinner_at_the_Homesick_Restaurant",
         "N pag": 303,
         "Rating Count": 25627,
         "Rating Value": 3.81,
         "Review Count": 2021,
         "Title": "Dinner at the Homesick Restaurant",
         "Unnamed: 0": 985,
         "_deepnote_index_column": 985,
         "mean_norm_ratings": 4.2955555555555565,
         "minmax_norm_ratings": 4.8660000000000005,
         "series": 0
        },
        {
         "1st Pub": "1980.0",
         "Author": "Madeleine L'Engle",
         "Awards": "4.0",
         "Genres": "['Young Adult', 'Fiction', 'Fantasy']",
         "Link": "https://www.goodreads.com/book/show/14358.A_Ring_of_Endless_Light",
         "N pag": 332,
         "Rating Count": 18435,
         "Rating Value": 4.16,
         "Review Count": 788,
         "Title": "A Ring of Endless Light",
         "Unnamed: 0": 986,
         "_deepnote_index_column": 986,
         "mean_norm_ratings": 6.644444444444443,
         "minmax_norm_ratings": 6.98,
         "series": 1
        },
        {
         "1st Pub": "1930.0",
         "Author": "John Dos Passos",
         "Awards": "nan",
         "Genres": "['Fiction', 'Classics', 'Historical']",
         "Link": "https://www.goodreads.com/book/show/7101.The_42nd_Parallel",
         "N pag": 326,
         "Rating Count": 6185,
         "Rating Value": 3.82,
         "Review Count": 432,
         "Title": "The 42nd Parallel",
         "Unnamed: 0": 987,
         "_deepnote_index_column": 987,
         "mean_norm_ratings": 4.362222222222221,
         "minmax_norm_ratings": 4.926,
         "series": 1
        },
        {
         "1st Pub": "1974.0",
         "Author": "John     Nichols",
         "Awards": "1.0",
         "Genres": "['Fiction', 'Magical Realism', 'Historical']",
         "Link": "https://www.goodreads.com/book/show/39242.The_Milagro_Beanfield_War",
         "N pag": 456,
         "Rating Count": 9842,
         "Rating Value": 4.09,
         "Review Count": 457,
         "Title": "The Milagro Beanfield War",
         "Unnamed: 0": 988,
         "_deepnote_index_column": 988,
         "mean_norm_ratings": 6.1744444444444415,
         "minmax_norm_ratings": 6.557,
         "series": 1
        },
        {
         "1st Pub": "1979.0",
         "Author": "Mary  Stewart",
         "Awards": "1.0",
         "Genres": "['Fantasy', 'Fiction', 'Historical']",
         "Link": "https://www.goodreads.com/book/show/89723.The_Lottery_and_Other_Stories",
         "N pag": 513,
         "Rating Count": 14426,
         "Rating Value": 4.17,
         "Review Count": 421,
         "Title": "The Last Enchantment",
         "Unnamed: 0": 989,
         "_deepnote_index_column": 989,
         "mean_norm_ratings": 6.71111111111111,
         "minmax_norm_ratings": 7.04,
         "series": 1
        },
        {
         "1st Pub": "1949.0",
         "Author": "Shirley Jackson",
         "Awards": "nan",
         "Genres": "['Short Stories', 'Fiction', 'Horror']",
         "Link": "https://www.goodreads.com/book/show/64105.The_Last_Enchantment",
         "N pag": 302,
         "Rating Count": 64729,
         "Rating Value": 4.06,
         "Review Count": 2468,
         "Title": "The Lottery and Other Stories",
         "Unnamed: 0": 990,
         "_deepnote_index_column": 990,
         "mean_norm_ratings": 5.973333333333333,
         "minmax_norm_ratings": 6.376,
         "series": 0
        },
        {
         "1st Pub": "1961.0",
         "Author": "Ernest Hemingway",
         "Awards": "nan",
         "Genres": "['Fiction', 'Short Stories', 'Classics']",
         "Link": "https://www.goodreads.com/book/show/244261.The_Street_of_Crocodiles",
         "N pag": 144,
         "Rating Count": 33823,
         "Rating Value": 3.87,
         "Review Count": 1453,
         "Title": "The Snows of Kilimanjaro and Other Stories",
         "Unnamed: 0": 991,
         "_deepnote_index_column": 991,
         "mean_norm_ratings": 4.6977777777777785,
         "minmax_norm_ratings": 5.228,
         "series": 0
        },
        {
         "1st Pub": "1933.0",
         "Author": "Bruno Schulz",
         "Awards": "2.0",
         "Genres": "['Fiction', 'Short Stories', 'European Literature']",
         "Link": "https://www.goodreads.com/book/show/4645.The_Snows_of_Kilimanjaro_and_Other_Stories",
         "N pag": 160,
         "Rating Count": 7034,
         "Rating Value": 4.13,
         "Review Count": 599,
         "Title": "The Street of Crocodiles",
         "Unnamed: 0": 992,
         "_deepnote_index_column": 992,
         "mean_norm_ratings": 6.442222222222222,
         "minmax_norm_ratings": 6.7989999999999995,
         "series": 0
        },
        {
         "1st Pub": "1980.0",
         "Author": "Russell Hoban",
         "Awards": "3.0",
         "Genres": "['Fiction', 'Science Fiction', 'Apocalyptic']",
         "Link": "https://www.goodreads.com/book/show/428.Play_It_As_It_Lays",
         "N pag": 256,
         "Rating Count": 7075,
         "Rating Value": 4.02,
         "Review Count": 819,
         "Title": "Riddley Walker",
         "Unnamed: 0": 993,
         "_deepnote_index_column": 993,
         "mean_norm_ratings": 5.704444444444443,
         "minmax_norm_ratings": 6.1339999999999995,
         "series": 0
        },
        {
         "1st Pub": "1970.0",
         "Author": "Joan Didion",
         "Awards": "nan",
         "Genres": "['Fiction', 'Classics', 'Novels']",
         "Link": "https://www.goodreads.com/book/show/776573.Riddley_Walker",
         "N pag": 231,
         "Rating Count": 29879,
         "Rating Value": 3.88,
         "Review Count": 2278,
         "Title": "Play It As It Lays",
         "Unnamed: 0": 994,
         "_deepnote_index_column": 994,
         "mean_norm_ratings": 4.764444444444443,
         "minmax_norm_ratings": 5.289,
         "series": 0
        },
        {
         "1st Pub": "1954.0",
         "Author": "Max Frisch",
         "Awards": "nan",
         "Genres": "['Fiction', 'European Literature', 'German Literature']",
         "Link": "https://www.goodreads.com/book/show/265102.I_m_Not_Stiller",
         "N pag": 377,
         "Rating Count": 3985,
         "Rating Value": 4.06,
         "Review Count": 187,
         "Title": "I'm Not Stiller",
         "Unnamed: 0": 995,
         "_deepnote_index_column": 995,
         "mean_norm_ratings": 5.973333333333333,
         "minmax_norm_ratings": 6.376,
         "series": 0
        }
       ],
       "rows_top": [
        {
         "1st Pub": 1960,
         "Author": "Harper Lee",
         "Awards": "4.0",
         "Genres": "['Classics', 'Fiction', 'Historical']",
         "Link": "https://www.goodreads.com/book/show/2657.To_Kill_a_Mockingbird",
         "N pag": 324,
         "Rating Count": 4629082,
         "Rating Value": 4.28,
         "Review Count": 92962,
         "Title": "To Kill a Mockingbird",
         "Unnamed: 0": 0,
         "_deepnote_index_column": 0,
         "mean_norm_ratings": 7.448888888888887,
         "minmax_norm_ratings": 7.705,
         "series": 1
        },
        {
         "1st Pub": 1949,
         "Author": "George Orwell",
         "Awards": "2.0",
         "Genres": "['Classics', 'Fiction', 'Science Fiction']",
         "Link": "https://www.goodreads.com/book/show/40961427-1984",
         "N pag": 237,
         "Rating Count": 3250211,
         "Rating Value": 4.19,
         "Review Count": 72375,
         "Title": "1984",
         "Unnamed: 0": 1,
         "_deepnote_index_column": 1,
         "mean_norm_ratings": 6.8455555555555545,
         "minmax_norm_ratings": 7.1610000000000005,
         "series": 0
        },
        {
         "1st Pub": 1925,
         "Author": "F. Scott Fitzgerald",
         "Awards": "1.0",
         "Genres": "['Classics', 'Fiction', 'Academic']",
         "Link": "https://www.goodreads.com/book/show/3.Harry_Potter_and_the_Sorcerer_s_Stone",
         "N pag": 200,
         "Rating Count": 3877685,
         "Rating Value": 3.93,
         "Review Count": 68965,
         "Title": "The Great Gatsby",
         "Unnamed: 0": 2,
         "_deepnote_index_column": 2,
         "mean_norm_ratings": 5.1,
         "minmax_norm_ratings": 5.591,
         "series": 0
        },
        {
         "1st Pub": 1997,
         "Author": "J.K. Rowling",
         "Awards": "28.0",
         "Genres": "['Fantasy', 'Fiction', 'Young Adult']",
         "Link": "https://www.goodreads.com/book/show/4671.The_Great_Gatsby",
         "N pag": 309,
         "Rating Count": 7281482,
         "Rating Value": 4.48,
         "Review Count": 115354,
         "Title": "Harry Potter and the Sorcerer's Stone",
         "Unnamed: 0": 3,
         "_deepnote_index_column": 3,
         "mean_norm_ratings": 8.79111111111111,
         "minmax_norm_ratings": 8.913,
         "series": 1
        },
        {
         "1st Pub": 1937,
         "Author": "J.R.R. Tolkien",
         "Awards": "3.0",
         "Genres": "['Fantasy', 'Classics', 'Fiction']",
         "Link": "https://www.goodreads.com/book/show/170448.Animal_Farm",
         "N pag": 366,
         "Rating Count": 2973224,
         "Rating Value": 4.28,
         "Review Count": 49547,
         "Title": "The Hobbit, or There and Back Again",
         "Unnamed: 0": 4,
         "_deepnote_index_column": 4,
         "mean_norm_ratings": 7.448888888888887,
         "minmax_norm_ratings": 7.705,
         "series": 1
        },
        {
         "1st Pub": 1945,
         "Author": "George Orwell",
         "Awards": "2.0",
         "Genres": "['Classics', 'Fiction', 'Science Fiction']",
         "Link": "https://www.goodreads.com/book/show/5907.The_Hobbit_or_There_and_Back_Again",
         "N pag": 141,
         "Rating Count": 2823982,
         "Rating Value": 3.95,
         "Review Count": 57987,
         "Title": "Animal Farm",
         "Unnamed: 0": 5,
         "_deepnote_index_column": 5,
         "mean_norm_ratings": 5.234444444444444,
         "minmax_norm_ratings": 5.711,
         "series": 0
        },
        {
         "1st Pub": 1947,
         "Author": "Anne Frank",
         "Awards": "1.0",
         "Genres": "['Nonfiction', 'Classics', 'History']",
         "Link": "https://www.goodreads.com/book/show/48855.The_Diary_of_a_Young_Girl",
         "N pag": 283,
         "Rating Count": 2831501,
         "Rating Value": 4.16,
         "Review Count": 29790,
         "Title": "The Diary of a Young Girl",
         "Unnamed: 0": 6,
         "_deepnote_index_column": 6,
         "mean_norm_ratings": 6.644444444444443,
         "minmax_norm_ratings": 6.98,
         "series": 0
        },
        {
         "1st Pub": 1943,
         "Author": "Antoine de Saint-Exupéry",
         "Awards": "1.0",
         "Genres": "['Classics', 'Fiction', 'Fantasy']",
         "Link": "https://www.goodreads.com/book/show/157993.The_Little_Prince",
         "N pag": 93,
         "Rating Count": 1422617,
         "Rating Value": 4.31,
         "Review Count": 41265,
         "Title": "The Little Prince",
         "Unnamed: 0": 7,
         "_deepnote_index_column": 7,
         "mean_norm_ratings": 7.651111111111112,
         "minmax_norm_ratings": 7.886,
         "series": 0
        },
        {
         "1st Pub": 1953,
         "Author": "Ray Bradbury",
         "Awards": "4.0",
         "Genres": "['Classics', 'Fiction', 'Science Fiction']",
         "Link": "https://www.goodreads.com/book/show/13079982-fahrenheit-451",
         "N pag": 194,
         "Rating Count": 1732649,
         "Rating Value": 3.99,
         "Review Count": 49376,
         "Title": "Fahrenheit 451",
         "Unnamed: 0": 8,
         "_deepnote_index_column": 8,
         "mean_norm_ratings": 5.503333333333333,
         "minmax_norm_ratings": 5.952999999999999,
         "series": 0
        },
        {
         "1st Pub": 1951,
         "Author": "J.D. Salinger",
         "Awards": "2.0",
         "Genres": "['Classics', 'Fiction', 'Young Adult']",
         "Link": "https://www.goodreads.com/book/show/5107.The_Catcher_in_the_Rye",
         "N pag": 277,
         "Rating Count": 2799212,
         "Rating Value": 3.81,
         "Review Count": 58697,
         "Title": "The Catcher in the Rye",
         "Unnamed: 0": 9,
         "_deepnote_index_column": 9,
         "mean_norm_ratings": 4.2955555555555565,
         "minmax_norm_ratings": 4.8660000000000005,
         "series": 0
        },
        {
         "1st Pub": 1950,
         "Author": "C.S. Lewis",
         "Awards": "3.0",
         "Genres": "['Fantasy', 'Classics', 'Fiction']",
         "Link": "https://www.goodreads.com/book/show/100915.The_Lion_the_Witch_and_the_Wardrobe",
         "N pag": 206,
         "Rating Count": 2185822,
         "Rating Value": 4.22,
         "Review Count": 22571,
         "Title": "The Lion, the Witch and the Wardrobe",
         "Unnamed: 0": 10,
         "_deepnote_index_column": 10,
         "mean_norm_ratings": 7.046666666666668,
         "minmax_norm_ratings": 7.3420000000000005,
         "series": 1
        },
        {
         "1st Pub": 1939,
         "Author": "John Steinbeck",
         "Awards": "4.0",
         "Genres": "['Classics', 'Fiction', 'Historical']",
         "Link": "https://www.goodreads.com/book/show/18114322-the-grapes-of-wrath",
         "N pag": 479,
         "Rating Count": 764265,
         "Rating Value": 3.97,
         "Review Count": 17597,
         "Title": "The Grapes of Wrath",
         "Unnamed: 0": 11,
         "_deepnote_index_column": 11,
         "mean_norm_ratings": 5.368888888888888,
         "minmax_norm_ratings": 5.832000000000001,
         "series": 0
        },
        {
         "1st Pub": 1967,
         "Author": "Gabriel García Márquez",
         "Awards": "2.0",
         "Genres": "['Fiction', 'Classics', 'Magical Realism']",
         "Link": "https://www.goodreads.com/book/show/320.One_Hundred_Years_of_Solitude",
         "N pag": 417,
         "Rating Count": 770353,
         "Rating Value": 4.08,
         "Review Count": 31449,
         "Title": "One Hundred Years of Solitude",
         "Unnamed: 0": 12,
         "_deepnote_index_column": 12,
         "mean_norm_ratings": 6.1066666666666665,
         "minmax_norm_ratings": 6.497000000000001,
         "series": 0
        },
        {
         "1st Pub": 1932,
         "Author": "Aldous Huxley",
         "Awards": "nan",
         "Genres": "['Classics', 'Fiction', 'Science Fiction']",
         "Link": "https://www.goodreads.com/book/show/5129.Brave_New_World",
         "N pag": 288,
         "Rating Count": 1475247,
         "Rating Value": 3.99,
         "Review Count": 31466,
         "Title": "Brave New World",
         "Unnamed: 0": 13,
         "_deepnote_index_column": 13,
         "mean_norm_ratings": 5.503333333333333,
         "minmax_norm_ratings": 5.952999999999999,
         "series": 0
        },
        {
         "1st Pub": 1937,
         "Author": "John Steinbeck",
         "Awards": "1.0",
         "Genres": "['Classics', 'Fiction', 'Academic']",
         "Link": "https://www.goodreads.com/book/show/18405.Gone_with_the_Wind",
         "N pag": 103,
         "Rating Count": 1985058,
         "Rating Value": 3.88,
         "Review Count": 35159,
         "Title": "Of Mice and Men",
         "Unnamed: 0": 14,
         "_deepnote_index_column": 14,
         "mean_norm_ratings": 4.764444444444443,
         "minmax_norm_ratings": 5.289,
         "series": 0
        },
        {
         "1st Pub": 1936,
         "Author": "Margaret Mitchell",
         "Awards": "2.0",
         "Genres": "['Classics', 'Historical', 'Historical Fiction']",
         "Link": "https://www.goodreads.com/book/show/890.Of_Mice_and_Men",
         "N pag": 1037,
         "Rating Count": 1089571,
         "Rating Value": 4.3,
         "Review Count": 20079,
         "Title": "Gone with the Wind",
         "Unnamed: 0": 15,
         "_deepnote_index_column": 15,
         "mean_norm_ratings": 7.583333333333332,
         "minmax_norm_ratings": 7.8260000000000005,
         "series": 0
        },
        {
         "1st Pub": 1993,
         "Author": "Lois Lowry",
         "Awards": "22.0",
         "Genres": "['Young Adult', 'Fiction', 'Classics']",
         "Link": "https://www.goodreads.com/book/show/5.Harry_Potter_and_the_Prisoner_of_Azkaban",
         "N pag": 208,
         "Rating Count": 1836871,
         "Rating Value": 4.13,
         "Review Count": 66015,
         "Title": "The Giver",
         "Unnamed: 0": 16,
         "_deepnote_index_column": 16,
         "mean_norm_ratings": 6.442222222222222,
         "minmax_norm_ratings": 6.7989999999999995,
         "series": 1
        },
        {
         "1st Pub": 1999,
         "Author": "J.K. Rowling",
         "Awards": "13.0",
         "Genres": "['Fantasy', 'Young Adult', 'Fiction']",
         "Link": "https://www.goodreads.com/book/show/3636.The_Giver",
         "N pag": 435,
         "Rating Count": 2903473,
         "Rating Value": 4.57,
         "Review Count": 57160,
         "Title": "Harry Potter and the Prisoner of Azkaban",
         "Unnamed: 0": 17,
         "_deepnote_index_column": 17,
         "mean_norm_ratings": 9.395555555555557,
         "minmax_norm_ratings": 9.456,
         "series": 1
        },
        {
         "1st Pub": 1954,
         "Author": "William Golding",
         "Awards": "nan",
         "Genres": "['Classics', 'Fiction', 'Young Adult']",
         "Link": "https://www.goodreads.com/book/show/7624.Lord_of_the_Flies",
         "N pag": 182,
         "Rating Count": 2313858,
         "Rating Value": 3.69,
         "Review Count": 38480,
         "Title": "Lord of the Flies",
         "Unnamed: 0": 18,
         "_deepnote_index_column": 18,
         "mean_norm_ratings": 3.49,
         "minmax_norm_ratings": 4.141,
         "series": 0
        },
        {
         "1st Pub": 1969,
         "Author": "Kurt Vonnegut Jr.",
         "Awards": "4.0",
         "Genres": "['Classics', 'Fiction', 'Science Fiction']",
         "Link": "https://www.goodreads.com/book/show/4981.Slaughterhouse_Five",
         "N pag": 275,
         "Rating Count": 1150861,
         "Rating Value": 4.08,
         "Review Count": 27540,
         "Title": "Slaughterhouse-Five",
         "Unnamed: 0": 19,
         "_deepnote_index_column": 19,
         "mean_norm_ratings": 6.1066666666666665,
         "minmax_norm_ratings": 6.497000000000001,
         "series": 0
        },
        {
         "1st Pub": 1952,
         "Author": "John Steinbeck",
         "Awards": "2.0",
         "Genres": "['Classics', 'Fiction', 'Historical']",
         "Link": "https://www.goodreads.com/book/show/7604.Lolita",
         "N pag": 601,
         "Rating Count": 436615,
         "Rating Value": 4.38,
         "Review Count": 19952,
         "Title": "East of Eden",
         "Unnamed: 0": 20,
         "_deepnote_index_column": 20,
         "mean_norm_ratings": 8.12,
         "minmax_norm_ratings": 8.309,
         "series": 0
        },
        {
         "1st Pub": 1955,
         "Author": "Vladimir Nabokov",
         "Awards": "1.0",
         "Genres": "['Classics', 'Fiction', 'Literature']",
         "Link": "https://www.goodreads.com/book/show/4406.East_of_Eden",
         "N pag": 331,
         "Rating Count": 675740,
         "Rating Value": 3.89,
         "Review Count": 25288,
         "Title": "Lolita",
         "Unnamed: 0": 21,
         "_deepnote_index_column": 21,
         "mean_norm_ratings": 4.832222222222222,
         "minmax_norm_ratings": 5.349,
         "series": 0
        },
        {
         "1st Pub": 1985,
         "Author": "Margaret Atwood",
         "Awards": "13.0",
         "Genres": "['Fiction', 'Classics', 'Science Fiction']",
         "Link": "https://www.goodreads.com/book/show/38447.The_Handmaid_s_Tale",
         "N pag": 314,
         "Rating Count": 1509097,
         "Rating Value": 4.11,
         "Review Count": 72336,
         "Title": "The Handmaid's Tale",
         "Unnamed: 0": 22,
         "_deepnote_index_column": 22,
         "mean_norm_ratings": 6.308888888888887,
         "minmax_norm_ratings": 6.678,
         "series": 1
        },
        {
         "1st Pub": 1962,
         "Author": "Ken Kesey",
         "Awards": "nan",
         "Genres": "['Classics', 'Fiction', 'Literature']",
         "Link": "https://www.goodreads.com/book/show/332613.One_Flew_Over_the_Cuckoo_s_Nest",
         "N pag": 325,
         "Rating Count": 641349,
         "Rating Value": 4.19,
         "Review Count": 11366,
         "Title": "One Flew Over the Cuckoo's Nest",
         "Unnamed: 0": 23,
         "_deepnote_index_column": 23,
         "mean_norm_ratings": 6.8455555555555545,
         "minmax_norm_ratings": 7.1610000000000005,
         "series": 0
        },
        {
         "1st Pub": 1996,
         "Author": "Douglas Adams",
         "Awards": "nan",
         "Genres": "['Science Fiction', 'Fiction', 'Humor']",
         "Link": "https://www.goodreads.com/book/show/34.The_Fellowship_of_the_Ring",
         "N pag": 815,
         "Rating Count": 292145,
         "Rating Value": 4.36,
         "Review Count": 5394,
         "Title": "The Ultimate Hitchhiker's Guide to the Galaxy",
         "Unnamed: 0": 24,
         "_deepnote_index_column": 24,
         "mean_norm_ratings": 7.986666666666666,
         "minmax_norm_ratings": 8.187999999999999,
         "series": 1
        },
        {
         "1st Pub": 1954,
         "Author": "J.R.R. Tolkien",
         "Awards": "1.0",
         "Genres": "['Fantasy', 'Classics', 'Fiction']",
         "Link": "https://www.goodreads.com/book/show/13.The_Ultimate_Hitchhiker_s_Guide_to_the_Galaxy",
         "N pag": 398,
         "Rating Count": 2400261,
         "Rating Value": 4.36,
         "Review Count": 23530,
         "Title": "The Fellowship of the Ring",
         "Unnamed: 0": 25,
         "_deepnote_index_column": 25,
         "mean_norm_ratings": 7.986666666666666,
         "minmax_norm_ratings": 8.187999999999999,
         "series": 1
        },
        {
         "1st Pub": 1997,
         "Author": "Arthur Golden",
         "Awards": "nan",
         "Genres": "['Fiction', 'Historical', 'Historical Fiction']",
         "Link": "https://www.goodreads.com/book/show/929.Memoirs_of_a_Geisha",
         "N pag": 503,
         "Rating Count": 1744415,
         "Rating Value": 4.12,
         "Review Count": 30447,
         "Title": "Memoirs of a Geisha",
         "Unnamed: 0": 26,
         "_deepnote_index_column": 26,
         "mean_norm_ratings": 6.375555555555557,
         "minmax_norm_ratings": 6.7379999999999995,
         "series": 0
        },
        {
         "1st Pub": 1942,
         "Author": "Albert Camus",
         "Awards": "1.0",
         "Genres": "['Classics', 'Fiction', 'Philosophy']",
         "Link": "https://www.goodreads.com/book/show/49552.The_Stranger",
         "N pag": 123,
         "Rating Count": 729878,
         "Rating Value": 3.99,
         "Review Count": 24104,
         "Title": "The Stranger",
         "Unnamed: 0": 27,
         "_deepnote_index_column": 27,
         "mean_norm_ratings": 5.503333333333333,
         "minmax_norm_ratings": 5.952999999999999,
         "series": 0
        },
        {
         "1st Pub": 1998,
         "Author": "J.K. Rowling",
         "Awards": "7.0",
         "Genres": "['Fantasy', 'Young Adult', 'Fiction']",
         "Link": "https://www.goodreads.com/book/show/15881.Harry_Potter_and_the_Chamber_of_Secrets",
         "N pag": 341,
         "Rating Count": 2816514,
         "Rating Value": 4.43,
         "Review Count": 54443,
         "Title": "Harry Potter and the Chamber of Secrets",
         "Unnamed: 0": 28,
         "_deepnote_index_column": 28,
         "mean_norm_ratings": 8.455555555555557,
         "minmax_norm_ratings": 8.611,
         "series": 1
        },
        {
         "1st Pub": 1952,
         "Author": "E.B. White",
         "Awards": "5.0",
         "Genres": "['Classics', 'Childrens', 'Fiction']",
         "Link": "https://www.goodreads.com/book/show/24178.Charlotte_s_Web",
         "N pag": 184,
         "Rating Count": 1454356,
         "Rating Value": 4.18,
         "Review Count": 18507,
         "Title": "Charlotte's Web",
         "Unnamed: 0": 29,
         "_deepnote_index_column": 29,
         "mean_norm_ratings": 6.777777777777778,
         "minmax_norm_ratings": 7.101,
         "series": 0
        },
        {
         "1st Pub": 1956,
         "Author": "C.S. Lewis",
         "Awards": "nan",
         "Genres": "['Fantasy', 'Classics', 'Fiction']",
         "Link": "https://www.goodreads.com/book/show/11127.The_Chronicles_of_Narnia",
         "N pag": 767,
         "Rating Count": 532900,
         "Rating Value": 4.26,
         "Review Count": 10525,
         "Title": "The Chronicles of Narnia",
         "Unnamed: 0": 30,
         "_deepnote_index_column": 30,
         "mean_norm_ratings": 7.315555555555554,
         "minmax_norm_ratings": 7.584,
         "series": 1
        },
        {
         "1st Pub": 1962,
         "Author": "Madeleine L'Engle",
         "Awards": "4.0",
         "Genres": "['Fantasy', 'Fiction', 'Classics']",
         "Link": "https://www.goodreads.com/book/show/33574273-a-wrinkle-in-time",
         "N pag": 218,
         "Rating Count": 1068151,
         "Rating Value": 3.99,
         "Review Count": 34278,
         "Title": "A Wrinkle in Time",
         "Unnamed: 0": 31,
         "_deepnote_index_column": 31,
         "mean_norm_ratings": 5.503333333333333,
         "minmax_norm_ratings": 5.952999999999999,
         "series": 1
        },
        {
         "1st Pub": 1985,
         "Author": "Orson Scott Card",
         "Awards": "5.0",
         "Genres": "['Science Fiction', 'Fiction', 'Young Adult']",
         "Link": "https://www.goodreads.com/book/show/2165.The_Old_Man_and_the_Sea",
         "N pag": 352,
         "Rating Count": 1157000,
         "Rating Value": 4.3,
         "Review Count": 43666,
         "Title": "Ender's Game",
         "Unnamed: 0": 32,
         "_deepnote_index_column": 32,
         "mean_norm_ratings": 7.583333333333332,
         "minmax_norm_ratings": 7.8260000000000005,
         "series": 1
        },
        {
         "1st Pub": 1952,
         "Author": "Ernest Hemingway",
         "Awards": "3.0",
         "Genres": "['Classics', 'Fiction', 'Literature']",
         "Link": "https://www.goodreads.com/book/show/375802.Ender_s_Game",
         "N pag": 96,
         "Rating Count": 855093,
         "Rating Value": 3.79,
         "Review Count": 25967,
         "Title": "The Old Man and the Sea",
         "Unnamed: 0": 33,
         "_deepnote_index_column": 33,
         "mean_norm_ratings": 4.161111111111111,
         "minmax_norm_ratings": 4.745,
         "series": 0
        },
        {
         "1st Pub": 1964,
         "Author": "Shel Silverstein",
         "Awards": "nan",
         "Genres": "['Childrens', 'Childrens', 'Picture Books']",
         "Link": "https://www.goodreads.com/book/show/370493.The_Giving_Tree",
         "N pag": 64,
         "Rating Count": 927076,
         "Rating Value": 4.37,
         "Review Count": 18179,
         "Title": "The Giving Tree",
         "Unnamed: 0": 34,
         "_deepnote_index_column": 34,
         "mean_norm_ratings": 8.053333333333333,
         "minmax_norm_ratings": 8.248,
         "series": 0
        }
       ]
      },
      "text/html": [
       "<div>\n",
       "<style scoped>\n",
       "    .dataframe tbody tr th:only-of-type {\n",
       "        vertical-align: middle;\n",
       "    }\n",
       "\n",
       "    .dataframe tbody tr th {\n",
       "        vertical-align: top;\n",
       "    }\n",
       "\n",
       "    .dataframe thead th {\n",
       "        text-align: right;\n",
       "    }\n",
       "</style>\n",
       "<table border=\"1\" class=\"dataframe\">\n",
       "  <thead>\n",
       "    <tr style=\"text-align: right;\">\n",
       "      <th></th>\n",
       "      <th>Unnamed: 0</th>\n",
       "      <th>Title</th>\n",
       "      <th>Author</th>\n",
       "      <th>Rating Count</th>\n",
       "      <th>Review Count</th>\n",
       "      <th>Rating Value</th>\n",
       "      <th>N pag</th>\n",
       "      <th>1st Pub</th>\n",
       "      <th>series</th>\n",
       "      <th>Genres</th>\n",
       "      <th>Awards</th>\n",
       "      <th>minmax_norm_ratings</th>\n",
       "      <th>mean_norm_ratings</th>\n",
       "      <th>Link</th>\n",
       "    </tr>\n",
       "  </thead>\n",
       "  <tbody>\n",
       "    <tr>\n",
       "      <th>0</th>\n",
       "      <td>0</td>\n",
       "      <td>To Kill a Mockingbird</td>\n",
       "      <td>Harper Lee</td>\n",
       "      <td>4629082</td>\n",
       "      <td>92962</td>\n",
       "      <td>4.28</td>\n",
       "      <td>324.0</td>\n",
       "      <td>1960.0</td>\n",
       "      <td>1</td>\n",
       "      <td>['Classics', 'Fiction', 'Historical']</td>\n",
       "      <td>4.0</td>\n",
       "      <td>7.705</td>\n",
       "      <td>7.448889</td>\n",
       "      <td>https://www.goodreads.com/book/show/2657.To_Ki...</td>\n",
       "    </tr>\n",
       "    <tr>\n",
       "      <th>1</th>\n",
       "      <td>1</td>\n",
       "      <td>1984</td>\n",
       "      <td>George Orwell</td>\n",
       "      <td>3250211</td>\n",
       "      <td>72375</td>\n",
       "      <td>4.19</td>\n",
       "      <td>237.0</td>\n",
       "      <td>1949.0</td>\n",
       "      <td>0</td>\n",
       "      <td>['Classics', 'Fiction', 'Science Fiction']</td>\n",
       "      <td>2.0</td>\n",
       "      <td>7.161</td>\n",
       "      <td>6.845556</td>\n",
       "      <td>https://www.goodreads.com/book/show/40961427-1984</td>\n",
       "    </tr>\n",
       "    <tr>\n",
       "      <th>2</th>\n",
       "      <td>2</td>\n",
       "      <td>The Great Gatsby</td>\n",
       "      <td>F. Scott Fitzgerald</td>\n",
       "      <td>3877685</td>\n",
       "      <td>68965</td>\n",
       "      <td>3.93</td>\n",
       "      <td>200.0</td>\n",
       "      <td>1925.0</td>\n",
       "      <td>0</td>\n",
       "      <td>['Classics', 'Fiction', 'Academic']</td>\n",
       "      <td>1.0</td>\n",
       "      <td>5.591</td>\n",
       "      <td>5.100000</td>\n",
       "      <td>https://www.goodreads.com/book/show/3.Harry_Po...</td>\n",
       "    </tr>\n",
       "    <tr>\n",
       "      <th>3</th>\n",
       "      <td>3</td>\n",
       "      <td>Harry Potter and the Sorcerer's Stone</td>\n",
       "      <td>J.K. Rowling</td>\n",
       "      <td>7281482</td>\n",
       "      <td>115354</td>\n",
       "      <td>4.48</td>\n",
       "      <td>309.0</td>\n",
       "      <td>1997.0</td>\n",
       "      <td>1</td>\n",
       "      <td>['Fantasy', 'Fiction', 'Young Adult']</td>\n",
       "      <td>28.0</td>\n",
       "      <td>8.913</td>\n",
       "      <td>8.791111</td>\n",
       "      <td>https://www.goodreads.com/book/show/4671.The_G...</td>\n",
       "    </tr>\n",
       "    <tr>\n",
       "      <th>4</th>\n",
       "      <td>4</td>\n",
       "      <td>The Hobbit, or There and Back Again</td>\n",
       "      <td>J.R.R. Tolkien</td>\n",
       "      <td>2973224</td>\n",
       "      <td>49547</td>\n",
       "      <td>4.28</td>\n",
       "      <td>366.0</td>\n",
       "      <td>1937.0</td>\n",
       "      <td>1</td>\n",
       "      <td>['Fantasy', 'Classics', 'Fiction']</td>\n",
       "      <td>3.0</td>\n",
       "      <td>7.705</td>\n",
       "      <td>7.448889</td>\n",
       "      <td>https://www.goodreads.com/book/show/170448.Ani...</td>\n",
       "    </tr>\n",
       "    <tr>\n",
       "      <th>...</th>\n",
       "      <td>...</td>\n",
       "      <td>...</td>\n",
       "      <td>...</td>\n",
       "      <td>...</td>\n",
       "      <td>...</td>\n",
       "      <td>...</td>\n",
       "      <td>...</td>\n",
       "      <td>...</td>\n",
       "      <td>...</td>\n",
       "      <td>...</td>\n",
       "      <td>...</td>\n",
       "      <td>...</td>\n",
       "      <td>...</td>\n",
       "      <td>...</td>\n",
       "    </tr>\n",
       "    <tr>\n",
       "      <th>991</th>\n",
       "      <td>991</td>\n",
       "      <td>The Snows of Kilimanjaro and Other Stories</td>\n",
       "      <td>Ernest Hemingway</td>\n",
       "      <td>33823</td>\n",
       "      <td>1453</td>\n",
       "      <td>3.87</td>\n",
       "      <td>144.0</td>\n",
       "      <td>1961.0</td>\n",
       "      <td>0</td>\n",
       "      <td>['Fiction', 'Short Stories', 'Classics']</td>\n",
       "      <td>NaN</td>\n",
       "      <td>5.228</td>\n",
       "      <td>4.697778</td>\n",
       "      <td>https://www.goodreads.com/book/show/244261.The...</td>\n",
       "    </tr>\n",
       "    <tr>\n",
       "      <th>992</th>\n",
       "      <td>992</td>\n",
       "      <td>The Street of Crocodiles</td>\n",
       "      <td>Bruno Schulz</td>\n",
       "      <td>7034</td>\n",
       "      <td>599</td>\n",
       "      <td>4.13</td>\n",
       "      <td>160.0</td>\n",
       "      <td>1933.0</td>\n",
       "      <td>0</td>\n",
       "      <td>['Fiction', 'Short Stories', 'European Literat...</td>\n",
       "      <td>2.0</td>\n",
       "      <td>6.799</td>\n",
       "      <td>6.442222</td>\n",
       "      <td>https://www.goodreads.com/book/show/4645.The_S...</td>\n",
       "    </tr>\n",
       "    <tr>\n",
       "      <th>993</th>\n",
       "      <td>993</td>\n",
       "      <td>Riddley Walker</td>\n",
       "      <td>Russell Hoban</td>\n",
       "      <td>7075</td>\n",
       "      <td>819</td>\n",
       "      <td>4.02</td>\n",
       "      <td>256.0</td>\n",
       "      <td>1980.0</td>\n",
       "      <td>0</td>\n",
       "      <td>['Fiction', 'Science Fiction', 'Apocalyptic']</td>\n",
       "      <td>3.0</td>\n",
       "      <td>6.134</td>\n",
       "      <td>5.704444</td>\n",
       "      <td>https://www.goodreads.com/book/show/428.Play_I...</td>\n",
       "    </tr>\n",
       "    <tr>\n",
       "      <th>994</th>\n",
       "      <td>994</td>\n",
       "      <td>Play It As It Lays</td>\n",
       "      <td>Joan Didion</td>\n",
       "      <td>29879</td>\n",
       "      <td>2278</td>\n",
       "      <td>3.88</td>\n",
       "      <td>231.0</td>\n",
       "      <td>1970.0</td>\n",
       "      <td>0</td>\n",
       "      <td>['Fiction', 'Classics', 'Novels']</td>\n",
       "      <td>NaN</td>\n",
       "      <td>5.289</td>\n",
       "      <td>4.764444</td>\n",
       "      <td>https://www.goodreads.com/book/show/776573.Rid...</td>\n",
       "    </tr>\n",
       "    <tr>\n",
       "      <th>995</th>\n",
       "      <td>995</td>\n",
       "      <td>I'm Not Stiller</td>\n",
       "      <td>Max Frisch</td>\n",
       "      <td>3985</td>\n",
       "      <td>187</td>\n",
       "      <td>4.06</td>\n",
       "      <td>377.0</td>\n",
       "      <td>1954.0</td>\n",
       "      <td>0</td>\n",
       "      <td>['Fiction', 'European Literature', 'German Lit...</td>\n",
       "      <td>NaN</td>\n",
       "      <td>6.376</td>\n",
       "      <td>5.973333</td>\n",
       "      <td>https://www.goodreads.com/book/show/265102.I_m...</td>\n",
       "    </tr>\n",
       "  </tbody>\n",
       "</table>\n",
       "<p>996 rows × 14 columns</p>\n",
       "</div>"
      ],
      "text/plain": [
       "     Unnamed: 0                                       Title  \\\n",
       "0             0                       To Kill a Mockingbird   \n",
       "1             1                                        1984   \n",
       "2             2                            The Great Gatsby   \n",
       "3             3       Harry Potter and the Sorcerer's Stone   \n",
       "4             4         The Hobbit, or There and Back Again   \n",
       "..          ...                                         ...   \n",
       "991         991  The Snows of Kilimanjaro and Other Stories   \n",
       "992         992                    The Street of Crocodiles   \n",
       "993         993                              Riddley Walker   \n",
       "994         994                          Play It As It Lays   \n",
       "995         995                             I'm Not Stiller   \n",
       "\n",
       "                  Author  Rating Count  Review Count  Rating Value  N pag  \\\n",
       "0             Harper Lee       4629082         92962          4.28  324.0   \n",
       "1          George Orwell       3250211         72375          4.19  237.0   \n",
       "2    F. Scott Fitzgerald       3877685         68965          3.93  200.0   \n",
       "3           J.K. Rowling       7281482        115354          4.48  309.0   \n",
       "4         J.R.R. Tolkien       2973224         49547          4.28  366.0   \n",
       "..                   ...           ...           ...           ...    ...   \n",
       "991     Ernest Hemingway         33823          1453          3.87  144.0   \n",
       "992         Bruno Schulz          7034           599          4.13  160.0   \n",
       "993        Russell Hoban          7075           819          4.02  256.0   \n",
       "994          Joan Didion         29879          2278          3.88  231.0   \n",
       "995           Max Frisch          3985           187          4.06  377.0   \n",
       "\n",
       "     1st Pub  series                                             Genres  \\\n",
       "0     1960.0       1              ['Classics', 'Fiction', 'Historical']   \n",
       "1     1949.0       0         ['Classics', 'Fiction', 'Science Fiction']   \n",
       "2     1925.0       0                ['Classics', 'Fiction', 'Academic']   \n",
       "3     1997.0       1              ['Fantasy', 'Fiction', 'Young Adult']   \n",
       "4     1937.0       1                 ['Fantasy', 'Classics', 'Fiction']   \n",
       "..       ...     ...                                                ...   \n",
       "991   1961.0       0           ['Fiction', 'Short Stories', 'Classics']   \n",
       "992   1933.0       0  ['Fiction', 'Short Stories', 'European Literat...   \n",
       "993   1980.0       0      ['Fiction', 'Science Fiction', 'Apocalyptic']   \n",
       "994   1970.0       0                  ['Fiction', 'Classics', 'Novels']   \n",
       "995   1954.0       0  ['Fiction', 'European Literature', 'German Lit...   \n",
       "\n",
       "     Awards  minmax_norm_ratings  mean_norm_ratings  \\\n",
       "0       4.0                7.705           7.448889   \n",
       "1       2.0                7.161           6.845556   \n",
       "2       1.0                5.591           5.100000   \n",
       "3      28.0                8.913           8.791111   \n",
       "4       3.0                7.705           7.448889   \n",
       "..      ...                  ...                ...   \n",
       "991     NaN                5.228           4.697778   \n",
       "992     2.0                6.799           6.442222   \n",
       "993     3.0                6.134           5.704444   \n",
       "994     NaN                5.289           4.764444   \n",
       "995     NaN                6.376           5.973333   \n",
       "\n",
       "                                                  Link  \n",
       "0    https://www.goodreads.com/book/show/2657.To_Ki...  \n",
       "1    https://www.goodreads.com/book/show/40961427-1984  \n",
       "2    https://www.goodreads.com/book/show/3.Harry_Po...  \n",
       "3    https://www.goodreads.com/book/show/4671.The_G...  \n",
       "4    https://www.goodreads.com/book/show/170448.Ani...  \n",
       "..                                                 ...  \n",
       "991  https://www.goodreads.com/book/show/244261.The...  \n",
       "992  https://www.goodreads.com/book/show/4645.The_S...  \n",
       "993  https://www.goodreads.com/book/show/428.Play_I...  \n",
       "994  https://www.goodreads.com/book/show/776573.Rid...  \n",
       "995  https://www.goodreads.com/book/show/265102.I_m...  \n",
       "\n",
       "[996 rows x 14 columns]"
      ]
     },
     "execution_count": 8,
     "metadata": {},
     "output_type": "execute_result"
    }
   ],
   "source": [
    "df"
   ]
  },
  {
   "cell_type": "code",
   "execution_count": 9,
   "metadata": {
    "cell_id": "00003-7b468c10-5b4d-44af-85a1-69ea5ee51d4c",
    "deepnote_cell_type": "code",
    "deepnote_to_be_reexecuted": false,
    "execution_millis": 8,
    "execution_start": 1610537145595,
    "source_hash": "1e04e1a0",
    "tags": []
   },
   "outputs": [],
   "source": [
    "sample_df = df.sample(n = 100)"
   ]
  },
  {
   "cell_type": "code",
   "execution_count": 10,
   "metadata": {
    "cell_id": "00004-72b095b1-aeae-4e50-bc97-330bd511777e",
    "deepnote_cell_type": "code",
    "deepnote_to_be_reexecuted": false,
    "execution_millis": 98,
    "execution_start": 1610537147468,
    "source_hash": "6085e2a0",
    "tags": []
   },
   "outputs": [
    {
     "data": {
      "application/vnd.deepnote.dataframe.v2+json": {
       "column_count": 14,
       "columns": [
        {
         "dtype": "int64",
         "name": "Unnamed: 0",
         "stats": {
          "histogram": [
           {
            "bin_end": 101.9,
            "bin_start": 3,
            "count": 16
           },
           {
            "bin_end": 200.8,
            "bin_start": 101.9,
            "count": 12
           },
           {
            "bin_end": 299.70000000000005,
            "bin_start": 200.8,
            "count": 5
           },
           {
            "bin_end": 398.6,
            "bin_start": 299.70000000000005,
            "count": 10
           },
           {
            "bin_end": 497.5,
            "bin_start": 398.6,
            "count": 18
           },
           {
            "bin_end": 596.4000000000001,
            "bin_start": 497.5,
            "count": 9
           },
           {
            "bin_end": 695.3000000000001,
            "bin_start": 596.4000000000001,
            "count": 5
           },
           {
            "bin_end": 794.2,
            "bin_start": 695.3000000000001,
            "count": 7
           },
           {
            "bin_end": 893.1,
            "bin_start": 794.2,
            "count": 10
           },
           {
            "bin_end": 992,
            "bin_start": 893.1,
            "count": 8
           }
          ],
          "max": 992,
          "min": 3,
          "nan_count": 0,
          "unique_count": 100
         }
        },
        {
         "dtype": "object",
         "name": "Title",
         "stats": {
          "categories": [
           {
            "count": 1,
            "name": "Farewell, My Lovely"
           },
           {
            "count": 1,
            "name": "A Man for All Seasons"
           },
           {
            "count": 98,
            "name": "98 others"
           }
          ],
          "nan_count": 0,
          "unique_count": 100
         }
        },
        {
         "dtype": "object",
         "name": "Author",
         "stats": {
          "categories": [
           {
            "count": 2,
            "name": "C.G. Jung"
           },
           {
            "count": 2,
            "name": "C.S. Lewis"
           },
           {
            "count": 96,
            "name": "93 others"
           }
          ],
          "nan_count": 0,
          "unique_count": 95
         }
        },
        {
         "dtype": "int64",
         "name": "Rating Count",
         "stats": {
          "histogram": [
           {
            "bin_end": 730621.4,
            "bin_start": 2748,
            "count": 92
           },
           {
            "bin_end": 1458494.8,
            "bin_start": 730621.4,
            "count": 4
           },
           {
            "bin_end": 2186368.2,
            "bin_start": 1458494.8,
            "count": 2
           },
           {
            "bin_end": 2914241.6,
            "bin_start": 2186368.2,
            "count": 0
           },
           {
            "bin_end": 3642115,
            "bin_start": 2914241.6,
            "count": 1
           },
           {
            "bin_end": 4369988.4,
            "bin_start": 3642115,
            "count": 0
           },
           {
            "bin_end": 5097861.8,
            "bin_start": 4369988.4,
            "count": 0
           },
           {
            "bin_end": 5825735.2,
            "bin_start": 5097861.8,
            "count": 0
           },
           {
            "bin_end": 6553608.600000001,
            "bin_start": 5825735.2,
            "count": 0
           },
           {
            "bin_end": 7281482,
            "bin_start": 6553608.600000001,
            "count": 1
           }
          ],
          "max": 7281482,
          "min": 2748,
          "nan_count": 0,
          "unique_count": 100
         }
        },
        {
         "dtype": "int64",
         "name": "Review Count",
         "stats": {
          "histogram": [
           {
            "bin_end": 11605.6,
            "bin_start": 78,
            "count": 81
           },
           {
            "bin_end": 23133.2,
            "bin_start": 11605.6,
            "count": 9
           },
           {
            "bin_end": 34660.8,
            "bin_start": 23133.2,
            "count": 4
           },
           {
            "bin_end": 46188.4,
            "bin_start": 34660.8,
            "count": 2
           },
           {
            "bin_end": 57716,
            "bin_start": 46188.4,
            "count": 1
           },
           {
            "bin_end": 69243.6,
            "bin_start": 57716,
            "count": 1
           },
           {
            "bin_end": 80771.2,
            "bin_start": 69243.6,
            "count": 0
           },
           {
            "bin_end": 92298.8,
            "bin_start": 80771.2,
            "count": 1
           },
           {
            "bin_end": 103826.40000000001,
            "bin_start": 92298.8,
            "count": 0
           },
           {
            "bin_end": 115354,
            "bin_start": 103826.40000000001,
            "count": 1
           }
          ],
          "max": 115354,
          "min": 78,
          "nan_count": 0,
          "unique_count": 100
         }
        },
        {
         "dtype": "float64",
         "name": "Rating Value",
         "stats": {
          "histogram": [
           {
            "bin_end": 3.598,
            "bin_start": 3.5,
            "count": 2
           },
           {
            "bin_end": 3.696,
            "bin_start": 3.598,
            "count": 2
           },
           {
            "bin_end": 3.794,
            "bin_start": 3.696,
            "count": 7
           },
           {
            "bin_end": 3.8920000000000003,
            "bin_start": 3.794,
            "count": 11
           },
           {
            "bin_end": 3.99,
            "bin_start": 3.8920000000000003,
            "count": 13
           },
           {
            "bin_end": 4.088,
            "bin_start": 3.99,
            "count": 14
           },
           {
            "bin_end": 4.186,
            "bin_start": 4.088,
            "count": 27
           },
           {
            "bin_end": 4.284000000000001,
            "bin_start": 4.186,
            "count": 14
           },
           {
            "bin_end": 4.382000000000001,
            "bin_start": 4.284000000000001,
            "count": 5
           },
           {
            "bin_end": 4.48,
            "bin_start": 4.382000000000001,
            "count": 5
           }
          ],
          "max": 4.48,
          "min": 3.5,
          "nan_count": 0,
          "unique_count": 58
         }
        },
        {
         "dtype": "float64",
         "name": "N pag",
         "stats": {
          "histogram": [
           {
            "bin_end": 203,
            "bin_start": 26,
            "count": 23
           },
           {
            "bin_end": 380,
            "bin_start": 203,
            "count": 35
           },
           {
            "bin_end": 557,
            "bin_start": 380,
            "count": 24
           },
           {
            "bin_end": 734,
            "bin_start": 557,
            "count": 8
           },
           {
            "bin_end": 911,
            "bin_start": 734,
            "count": 4
           },
           {
            "bin_end": 1088,
            "bin_start": 911,
            "count": 4
           },
           {
            "bin_end": 1265,
            "bin_start": 1088,
            "count": 0
           },
           {
            "bin_end": 1442,
            "bin_start": 1265,
            "count": 1
           },
           {
            "bin_end": 1619,
            "bin_start": 1442,
            "count": 0
           },
           {
            "bin_end": 1796,
            "bin_start": 1619,
            "count": 1
           }
          ],
          "max": 1796,
          "min": 26,
          "nan_count": 0,
          "unique_count": 88
         }
        },
        {
         "dtype": "float64",
         "name": "1st Pub",
         "stats": {
          "histogram": [
           {
            "bin_end": 1914.5,
            "bin_start": 1905,
            "count": 4
           },
           {
            "bin_end": 1924,
            "bin_start": 1914.5,
            "count": 4
           },
           {
            "bin_end": 1933.5,
            "bin_start": 1924,
            "count": 5
           },
           {
            "bin_end": 1943,
            "bin_start": 1933.5,
            "count": 10
           },
           {
            "bin_end": 1952.5,
            "bin_start": 1943,
            "count": 4
           },
           {
            "bin_end": 1962,
            "bin_start": 1952.5,
            "count": 9
           },
           {
            "bin_end": 1971.5,
            "bin_start": 1962,
            "count": 16
           },
           {
            "bin_end": 1981,
            "bin_start": 1971.5,
            "count": 14
           },
           {
            "bin_end": 1990.5,
            "bin_start": 1981,
            "count": 17
           },
           {
            "bin_end": 2000,
            "bin_start": 1990.5,
            "count": 16
           }
          ],
          "max": 2000,
          "min": 1905,
          "nan_count": 1,
          "unique_count": 61
         }
        },
        {
         "dtype": "int64",
         "name": "series",
         "stats": {
          "histogram": [
           {
            "bin_end": 0.1,
            "bin_start": 0,
            "count": 70
           },
           {
            "bin_end": 0.2,
            "bin_start": 0.1,
            "count": 0
           },
           {
            "bin_end": 0.30000000000000004,
            "bin_start": 0.2,
            "count": 0
           },
           {
            "bin_end": 0.4,
            "bin_start": 0.30000000000000004,
            "count": 0
           },
           {
            "bin_end": 0.5,
            "bin_start": 0.4,
            "count": 0
           },
           {
            "bin_end": 0.6000000000000001,
            "bin_start": 0.5,
            "count": 0
           },
           {
            "bin_end": 0.7000000000000001,
            "bin_start": 0.6000000000000001,
            "count": 0
           },
           {
            "bin_end": 0.8,
            "bin_start": 0.7000000000000001,
            "count": 0
           },
           {
            "bin_end": 0.9,
            "bin_start": 0.8,
            "count": 0
           },
           {
            "bin_end": 1,
            "bin_start": 0.9,
            "count": 30
           }
          ],
          "max": 1,
          "min": 0,
          "nan_count": 0,
          "unique_count": 2
         }
        },
        {
         "dtype": "object",
         "name": "Genres",
         "stats": {
          "categories": [
           {
            "count": 6,
            "name": "['Fiction', 'Classics', 'Historical']"
           },
           {
            "count": 6,
            "name": "['Fiction', 'Historical', 'Historical Fiction']"
           },
           {
            "count": 88,
            "name": "72 others"
           }
          ],
          "nan_count": 0,
          "unique_count": 74
         }
        },
        {
         "dtype": "float64",
         "name": "Awards",
         "stats": {
          "histogram": [
           {
            "bin_end": 3.7,
            "bin_start": 1,
            "count": 43
           },
           {
            "bin_end": 6.4,
            "bin_start": 3.7,
            "count": 6
           },
           {
            "bin_end": 9.100000000000001,
            "bin_start": 6.4,
            "count": 1
           },
           {
            "bin_end": 11.8,
            "bin_start": 9.100000000000001,
            "count": 0
           },
           {
            "bin_end": 14.5,
            "bin_start": 11.8,
            "count": 0
           },
           {
            "bin_end": 17.200000000000003,
            "bin_start": 14.5,
            "count": 1
           },
           {
            "bin_end": 19.900000000000002,
            "bin_start": 17.200000000000003,
            "count": 0
           },
           {
            "bin_end": 22.6,
            "bin_start": 19.900000000000002,
            "count": 0
           },
           {
            "bin_end": 25.3,
            "bin_start": 22.6,
            "count": 0
           },
           {
            "bin_end": 28,
            "bin_start": 25.3,
            "count": 1
           }
          ],
          "max": 28,
          "min": 1,
          "nan_count": 48,
          "unique_count": 8
         }
        },
        {
         "dtype": "float64",
         "name": "minmax_norm_ratings",
         "stats": {
          "histogram": [
           {
            "bin_end": 3.5850000000000004,
            "bin_start": 2.9930000000000003,
            "count": 2
           },
           {
            "bin_end": 4.1770000000000005,
            "bin_start": 3.5850000000000004,
            "count": 2
           },
           {
            "bin_end": 4.769,
            "bin_start": 4.1770000000000005,
            "count": 7
           },
           {
            "bin_end": 5.361000000000001,
            "bin_start": 4.769,
            "count": 11
           },
           {
            "bin_end": 5.953,
            "bin_start": 5.361000000000001,
            "count": 15
           },
           {
            "bin_end": 6.545,
            "bin_start": 5.953,
            "count": 12
           },
           {
            "bin_end": 7.1370000000000005,
            "bin_start": 6.545,
            "count": 27
           },
           {
            "bin_end": 7.729,
            "bin_start": 7.1370000000000005,
            "count": 14
           },
           {
            "bin_end": 8.321,
            "bin_start": 7.729,
            "count": 5
           },
           {
            "bin_end": 8.913,
            "bin_start": 8.321,
            "count": 5
           }
          ],
          "max": 8.913,
          "min": 2.9930000000000003,
          "nan_count": 0,
          "unique_count": 58
         }
        },
        {
         "dtype": "float64",
         "name": "mean_norm_ratings",
         "stats": {
          "histogram": [
           {
            "bin_end": 2.8721111111111104,
            "bin_start": 2.2144444444444438,
            "count": 2
           },
           {
            "bin_end": 3.529777777777777,
            "bin_start": 2.8721111111111104,
            "count": 2
           },
           {
            "bin_end": 4.187444444444443,
            "bin_start": 3.529777777777777,
            "count": 7
           },
           {
            "bin_end": 4.845111111111111,
            "bin_start": 4.187444444444443,
            "count": 11
           },
           {
            "bin_end": 5.502777777777776,
            "bin_start": 4.845111111111111,
            "count": 13
           },
           {
            "bin_end": 6.160444444444444,
            "bin_start": 5.502777777777776,
            "count": 14
           },
           {
            "bin_end": 6.81811111111111,
            "bin_start": 6.160444444444444,
            "count": 27
           },
           {
            "bin_end": 7.475777777777777,
            "bin_start": 6.81811111111111,
            "count": 14
           },
           {
            "bin_end": 8.133444444444443,
            "bin_start": 7.475777777777777,
            "count": 5
           },
           {
            "bin_end": 8.79111111111111,
            "bin_start": 8.133444444444443,
            "count": 5
           }
          ],
          "max": 8.79111111111111,
          "min": 2.2144444444444438,
          "nan_count": 0,
          "unique_count": 58
         }
        },
        {
         "dtype": "object",
         "name": "Link",
         "stats": {
          "categories": [
           {
            "count": 1,
            "name": "https://www.goodreads.com/book/show/15197.Maus_II"
           },
           {
            "count": 1,
            "name": "https://www.goodreads.com/book/show/403098.A_Man_for_All_Seasons"
           },
           {
            "count": 98,
            "name": "98 others"
           }
          ],
          "nan_count": 0,
          "unique_count": 100
         }
        },
        {
         "dtype": "int64",
         "name": "_deepnote_index_column"
        }
       ],
       "row_count": 100,
       "rows_bottom": [
        {
         "1st Pub": 1974,
         "Author": "Stephen King",
         "Awards": "nan",
         "Genres": "['Horror', 'Fiction', 'Thriller']",
         "Link": "https://www.goodreads.com/book/show/10592.Carrie",
         "N pag": 253,
         "Rating Count": 534591,
         "Rating Value": 3.97,
         "Review Count": 14667,
         "Title": "Carrie",
         "Unnamed: 0": 349,
         "_deepnote_index_column": 349,
         "mean_norm_ratings": 5.368888888888888,
         "minmax_norm_ratings": 5.832000000000001,
         "series": 0
        },
        {
         "1st Pub": 1956,
         "Author": "C.S. Lewis",
         "Awards": "1.0",
         "Genres": "['Fiction', 'Fantasy', 'Classics']",
         "Link": "https://www.goodreads.com/book/show/80890.Buddenbrooks",
         "N pag": 313,
         "Rating Count": 56908,
         "Rating Value": 4.15,
         "Review Count": 4393,
         "Title": "Till We Have Faces",
         "Unnamed: 0": 431,
         "_deepnote_index_column": 431,
         "mean_norm_ratings": 6.576666666666666,
         "minmax_norm_ratings": 6.919,
         "series": 0
        },
        {
         "1st Pub": 1969,
         "Author": "Kurt Vonnegut Jr.",
         "Awards": "4.0",
         "Genres": "['Classics', 'Fiction', 'Science Fiction']",
         "Link": "https://www.goodreads.com/book/show/4981.Slaughterhouse_Five",
         "N pag": 275,
         "Rating Count": 1150861,
         "Rating Value": 4.08,
         "Review Count": 27540,
         "Title": "Slaughterhouse-Five",
         "Unnamed: 0": 19,
         "_deepnote_index_column": 19,
         "mean_norm_ratings": 6.1066666666666665,
         "minmax_norm_ratings": 6.497000000000001,
         "series": 0
        },
        {
         "1st Pub": 1995,
         "Author": "José Saramago",
         "Awards": "2.0",
         "Genres": "['Fiction', 'Science Fiction', 'Dystopia']",
         "Link": "https://www.goodreads.com/book/show/40495148-blindness",
         "N pag": 349,
         "Rating Count": 208018,
         "Rating Value": 4.14,
         "Review Count": 16844,
         "Title": "Blindness",
         "Unnamed: 0": 97,
         "_deepnote_index_column": 97,
         "mean_norm_ratings": 6.51,
         "minmax_norm_ratings": 6.859,
         "series": 1
        },
        {
         "1st Pub": 1994,
         "Author": "John Berendt",
         "Awards": "4.0",
         "Genres": "['Nonfiction', 'Crime', 'True Crime']",
         "Link": "https://www.goodreads.com/book/show/37380.The_Heart_Is_a_Lonely_Hunter",
         "N pag": 386,
         "Rating Count": 229235,
         "Rating Value": 3.92,
         "Review Count": 9081,
         "Title": "Midnight in the Garden of Good and Evil",
         "Unnamed: 0": 171,
         "_deepnote_index_column": 171,
         "mean_norm_ratings": 5.033333333333333,
         "minmax_norm_ratings": 5.53,
         "series": 0
        },
        {
         "1st Pub": 1979,
         "Author": "Octavia E. Butler",
         "Awards": "1.0",
         "Genres": "['Historical', 'Historical Fiction', 'Fiction']",
         "Link": "https://www.goodreads.com/book/show/60931.Kindred",
         "N pag": 287,
         "Rating Count": 106315,
         "Rating Value": 4.26,
         "Review Count": 12096,
         "Title": "Kindred",
         "Unnamed: 0": 655,
         "_deepnote_index_column": 655,
         "mean_norm_ratings": 7.315555555555554,
         "minmax_norm_ratings": 7.584,
         "series": 0
        },
        {
         "1st Pub": 1932,
         "Author": "Laura Ingalls Wilder",
         "Awards": "1.0",
         "Genres": "['Classics', 'Historical', 'Historical Fiction']",
         "Link": "https://www.goodreads.com/book/show/8337.Little_House_in_the_Big_Woods",
         "N pag": 198,
         "Rating Count": 237533,
         "Rating Value": 4.18,
         "Review Count": 6038,
         "Title": "Little House in the Big Woods",
         "Unnamed: 0": 226,
         "_deepnote_index_column": 226,
         "mean_norm_ratings": 6.777777777777778,
         "minmax_norm_ratings": 7.101,
         "series": 1
        },
        {
         "1st Pub": 1984,
         "Author": "Richard Bachman",
         "Awards": "nan",
         "Genres": "['Horror', 'Fiction', 'Thriller']",
         "Link": "https://www.goodreads.com/book/show/10605.Thinner",
         "N pag": 320,
         "Rating Count": 178091,
         "Rating Value": 3.73,
         "Review Count": 2658,
         "Title": "Thinner",
         "Unnamed: 0": 958,
         "_deepnote_index_column": 958,
         "mean_norm_ratings": 3.7577777777777777,
         "minmax_norm_ratings": 4.383,
         "series": 0
        },
        {
         "1st Pub": 1967,
         "Author": "Joan Didion",
         "Awards": "nan",
         "Genres": "['Nonfiction', 'Writing', 'Essays']",
         "Link": "https://www.goodreads.com/book/show/1547992.Selected_Poems",
         "N pag": 238,
         "Rating Count": 38523,
         "Rating Value": 4.19,
         "Review Count": 2894,
         "Title": "Slouching Towards Bethlehem",
         "Unnamed: 0": 708,
         "_deepnote_index_column": 708,
         "mean_norm_ratings": 6.8455555555555545,
         "minmax_norm_ratings": 7.1610000000000005,
         "series": 0
        },
        {
         "1st Pub": 1940,
         "Author": "Ernest Hemingway",
         "Awards": "nan",
         "Genres": "['Classics', 'Fiction', 'Literature']",
         "Link": "https://www.goodreads.com/book/show/2122.The_Fountainhead",
         "N pag": 471,
         "Rating Count": 252443,
         "Rating Value": 3.97,
         "Review Count": 6652,
         "Title": "For Whom the Bell Tolls",
         "Unnamed: 0": 76,
         "_deepnote_index_column": 76,
         "mean_norm_ratings": 5.368888888888888,
         "minmax_norm_ratings": 5.832000000000001,
         "series": 0
        },
        {
         "1st Pub": 1978,
         "Author": "Judi Barrett",
         "Awards": "1.0",
         "Genres": "['Childrens', 'Picture Books', 'Childrens']",
         "Link": "https://www.goodreads.com/book/show/8073.Cloudy_With_a_Chance_of_Meatballs",
         "N pag": 32,
         "Rating Count": 132011,
         "Rating Value": 4.16,
         "Review Count": 2276,
         "Title": "Cloudy With a Chance of Meatballs",
         "Unnamed: 0": 477,
         "_deepnote_index_column": 477,
         "mean_norm_ratings": 6.644444444444443,
         "minmax_norm_ratings": 6.98,
         "series": 1
        },
        {
         "1st Pub": 1999,
         "Author": "Jhumpa Lahiri",
         "Awards": "3.0",
         "Genres": "['Short Stories', 'Fiction', 'Cultural']",
         "Link": "https://www.goodreads.com/book/show/11713.The_English_Patient",
         "N pag": 198,
         "Rating Count": 162346,
         "Rating Value": 4.16,
         "Review Count": 10896,
         "Title": "Interpreter of Maladies",
         "Unnamed: 0": 173,
         "_deepnote_index_column": 173,
         "mean_norm_ratings": 6.644444444444443,
         "minmax_norm_ratings": 6.98,
         "series": 0
        },
        {
         "1st Pub": 1942,
         "Author": "Lloyd C. Douglas",
         "Awards": "nan",
         "Genres": "['Historical', 'Historical Fiction', 'Fiction']",
         "Link": "https://www.goodreads.com/book/show/136096.If_Not_Now_When_",
         "N pag": 528,
         "Rating Count": 23282,
         "Rating Value": 4.22,
         "Review Count": 1204,
         "Title": "The Robe",
         "Unnamed: 0": 951,
         "_deepnote_index_column": 951,
         "mean_norm_ratings": 7.046666666666668,
         "minmax_norm_ratings": 7.3420000000000005,
         "series": 0
        },
        {
         "1st Pub": 1966,
         "Author": "Jacqueline Susann",
         "Awards": "nan",
         "Genres": "['Fiction', 'Classics', 'Womens Fiction']",
         "Link": "https://www.goodreads.com/book/show/7437.Naked_Lunch",
         "N pag": 449,
         "Rating Count": 50520,
         "Rating Value": 3.76,
         "Review Count": 3497,
         "Title": "Valley of the Dolls",
         "Unnamed: 0": 337,
         "_deepnote_index_column": 337,
         "mean_norm_ratings": 3.9588888888888887,
         "minmax_norm_ratings": 4.564,
         "series": 0
        },
        {
         "1st Pub": 1968,
         "Author": "Anne McCaffrey",
         "Awards": "1.0",
         "Genres": "['Fantasy', 'Science Fiction', 'Fantasy']",
         "Link": "https://www.goodreads.com/book/show/61975.Dragonflight",
         "N pag": 299,
         "Rating Count": 129401,
         "Rating Value": 4.08,
         "Review Count": 3416,
         "Title": "Dragonflight",
         "Unnamed: 0": 540,
         "_deepnote_index_column": 540,
         "mean_norm_ratings": 6.1066666666666665,
         "minmax_norm_ratings": 6.497000000000001,
         "series": 1
        },
        {
         "1st Pub": 2000,
         "Author": "Barbara Kingsolver",
         "Awards": "nan",
         "Genres": "['Fiction', 'Contemporary', 'Environment']",
         "Link": "https://www.goodreads.com/book/show/14249.Prodigal_Summer",
         "N pag": 444,
         "Rating Count": 100288,
         "Rating Value": 3.99,
         "Review Count": 6331,
         "Title": "Prodigal Summer",
         "Unnamed: 0": 350,
         "_deepnote_index_column": 350,
         "mean_norm_ratings": 5.503333333333333,
         "minmax_norm_ratings": 5.952999999999999,
         "series": 0
        },
        {
         "1st Pub": 1978,
         "Author": "Iris Murdoch",
         "Awards": "1.0",
         "Genres": "['Fiction', 'Classics', 'Literature']",
         "Link": "https://www.goodreads.com/book/show/11229.The_Sea_The_Sea",
         "N pag": 528,
         "Rating Count": 16598,
         "Rating Value": 3.93,
         "Review Count": 1276,
         "Title": "The Sea, The Sea",
         "Unnamed: 0": 447,
         "_deepnote_index_column": 447,
         "mean_norm_ratings": 5.1,
         "minmax_norm_ratings": 5.591,
         "series": 0
        },
        {
         "1st Pub": 1927,
         "Author": "Arthur Conan Doyle",
         "Awards": "1.0",
         "Genres": "['Classics', 'Mystery', 'Fiction']",
         "Link": "https://www.goodreads.com/book/show/188572.The_Complete_Sherlock_Holmes",
         "N pag": 1796,
         "Rating Count": 178621,
         "Rating Value": 4.47,
         "Review Count": 3739,
         "Title": "The Complete Sherlock Holmes",
         "Unnamed: 0": 50,
         "_deepnote_index_column": 50,
         "mean_norm_ratings": 8.724444444444442,
         "minmax_norm_ratings": 8.852,
         "series": 1
        },
        {
         "1st Pub": 1973,
         "Author": "Arthur C. Clarke",
         "Awards": "7.0",
         "Genres": "['Science Fiction', 'Fiction', 'Classics']",
         "Link": "https://www.goodreads.com/book/show/112537.Rendezvous_with_Rama",
         "N pag": 243,
         "Rating Count": 136462,
         "Rating Value": 4.1,
         "Review Count": 4140,
         "Title": "Rendezvous with Rama",
         "Unnamed: 0": 443,
         "_deepnote_index_column": 443,
         "mean_norm_ratings": 6.2411111111111115,
         "minmax_norm_ratings": 6.617000000000001,
         "series": 1
        },
        {
         "1st Pub": 1988,
         "Author": "Margaret Atwood",
         "Awards": "1.0",
         "Genres": "['Fiction', 'Cultural', 'Canada']",
         "Link": "https://www.goodreads.com/book/show/479415.The_Horse_Whisperer",
         "N pag": 462,
         "Rating Count": 61446,
         "Rating Value": 3.92,
         "Review Count": 3506,
         "Title": "Cat's Eye",
         "Unnamed: 0": 830,
         "_deepnote_index_column": 830,
         "mean_norm_ratings": 5.033333333333333,
         "minmax_norm_ratings": 5.53,
         "series": 0
        },
        {
         "1st Pub": 1985,
         "Author": "Anne Tyler",
         "Awards": "4.0",
         "Genres": "['Fiction', 'Contemporary', 'Literary Fiction']",
         "Link": "https://www.goodreads.com/book/show/60792.The_Accidental_Tourist",
         "N pag": 352,
         "Rating Count": 99834,
         "Rating Value": 3.9,
         "Review Count": 2343,
         "Title": "The Accidental Tourist",
         "Unnamed: 0": 402,
         "_deepnote_index_column": 402,
         "mean_norm_ratings": 4.898888888888889,
         "minmax_norm_ratings": 5.409,
         "series": 0
        },
        {
         "1st Pub": 1966,
         "Author": "Jean Rhys",
         "Awards": "2.0",
         "Genres": "['Fiction', 'Classics', 'Historical']",
         "Link": "https://www.goodreads.com/book/show/25622780-wide-sargasso-sea",
         "N pag": 171,
         "Rating Count": 69388,
         "Rating Value": 3.59,
         "Review Count": 5425,
         "Title": "Wide Sargasso Sea",
         "Unnamed: 0": 474,
         "_deepnote_index_column": 474,
         "mean_norm_ratings": 2.818888888888889,
         "minmax_norm_ratings": 3.537,
         "series": 0
        },
        {
         "1st Pub": 1913,
         "Author": "D.H. Lawrence",
         "Awards": "nan",
         "Genres": "['Classics', 'Fiction', 'Literature']",
         "Link": "https://www.goodreads.com/book/show/32071.Sons_and_Lovers",
         "N pag": 654,
         "Rating Count": 47707,
         "Rating Value": 3.63,
         "Review Count": 1965,
         "Title": "Sons and Lovers",
         "Unnamed: 0": 298,
         "_deepnote_index_column": 298,
         "mean_norm_ratings": 3.0866666666666664,
         "minmax_norm_ratings": 3.779,
         "series": 1
        },
        {
         "1st Pub": 1994,
         "Author": "Ursula Hegi",
         "Awards": "3.0",
         "Genres": "['Fiction', 'Historical', 'Historical Fiction']",
         "Link": "https://www.goodreads.com/book/show/135836.Trainspotting",
         "N pag": 525,
         "Rating Count": 92571,
         "Rating Value": 4.09,
         "Review Count": 2098,
         "Title": "Stones from the River",
         "Unnamed: 0": 422,
         "_deepnote_index_column": 422,
         "mean_norm_ratings": 6.1744444444444415,
         "minmax_norm_ratings": 6.557,
         "series": 1
        },
        {
         "1st Pub": 1943,
         "Author": "Antoine de Saint-Exupéry",
         "Awards": "1.0",
         "Genres": "['Classics', 'Fiction', 'Fantasy']",
         "Link": "https://www.goodreads.com/book/show/157993.The_Little_Prince",
         "N pag": 93,
         "Rating Count": 1422617,
         "Rating Value": 4.31,
         "Review Count": 41265,
         "Title": "The Little Prince",
         "Unnamed: 0": 7,
         "_deepnote_index_column": 7,
         "mean_norm_ratings": 7.651111111111112,
         "minmax_norm_ratings": 7.886,
         "series": 0
        },
        {
         "1st Pub": 1980,
         "Author": "Stephen King",
         "Awards": "3.0",
         "Genres": "['Horror', 'Fiction', 'Thriller']",
         "Link": "https://www.goodreads.com/book/show/33514.The_Elements_of_Style",
         "N pag": 403,
         "Rating Count": 194446,
         "Rating Value": 3.89,
         "Review Count": 3221,
         "Title": "Firestarter",
         "Unnamed: 0": 877,
         "_deepnote_index_column": 877,
         "mean_norm_ratings": 4.832222222222222,
         "minmax_norm_ratings": 5.349,
         "series": 0
        },
        {
         "1st Pub": 1947,
         "Author": "Albert Camus",
         "Awards": "1.0",
         "Genres": "['Fiction', 'Classics', 'Philosophy']",
         "Link": "https://www.goodreads.com/book/show/11989.The_Plague",
         "N pag": 308,
         "Rating Count": 179031,
         "Rating Value": 4.01,
         "Review Count": 8606,
         "Title": "The Plague",
         "Unnamed: 0": 126,
         "_deepnote_index_column": 126,
         "mean_norm_ratings": 5.637777777777778,
         "minmax_norm_ratings": 6.074,
         "series": 0
        },
        {
         "1st Pub": 1929,
         "Author": "Virginia Woolf",
         "Awards": "nan",
         "Genres": "['Classics', 'Nonfiction', 'Feminism']",
         "Link": "https://www.goodreads.com/book/show/3087.A_Room_with_a_View",
         "N pag": 112,
         "Rating Count": 123091,
         "Rating Value": 4.16,
         "Review Count": 7963,
         "Title": "A Room of One's Own",
         "Unnamed: 0": 188,
         "_deepnote_index_column": 188,
         "mean_norm_ratings": 6.644444444444443,
         "minmax_norm_ratings": 6.98,
         "series": 0
        },
        {
         "1st Pub": 1967,
         "Author": "S.E. Hinton",
         "Awards": "2.0",
         "Genres": "['Classics', 'Young Adult', 'Fiction']",
         "Link": "https://www.goodreads.com/book/show/231804.The_Outsiders",
         "N pag": 192,
         "Rating Count": 964552,
         "Rating Value": 4.1,
         "Review Count": 33929,
         "Title": "The Outsiders",
         "Unnamed: 0": 64,
         "_deepnote_index_column": 64,
         "mean_norm_ratings": 6.2411111111111115,
         "minmax_norm_ratings": 6.617000000000001,
         "series": 0
        },
        {
         "1st Pub": 1982,
         "Author": "Marion Zimmer Bradley",
         "Awards": "1.0",
         "Genres": "['Fantasy', 'Fiction', 'Historical']",
         "Link": "https://www.goodreads.com/book/show/9777.The_God_of_Small_Things",
         "N pag": 1009,
         "Rating Count": 195302,
         "Rating Value": 4.11,
         "Review Count": 6842,
         "Title": "The Mists of Avalon",
         "Unnamed: 0": 151,
         "_deepnote_index_column": 151,
         "mean_norm_ratings": 6.308888888888887,
         "minmax_norm_ratings": 6.678,
         "series": 1
        },
        {
         "1st Pub": 1915,
         "Author": "Ford Madox Ford",
         "Awards": "nan",
         "Genres": "['Fiction', 'Classics', 'Literature']",
         "Link": "https://www.goodreads.com/book/show/7628.The_Good_Soldier",
         "N pag": 368,
         "Rating Count": 22933,
         "Rating Value": 3.71,
         "Review Count": 1615,
         "Title": "The Good Soldier",
         "Unnamed: 0": 720,
         "_deepnote_index_column": 720,
         "mean_norm_ratings": 3.623333333333333,
         "minmax_norm_ratings": 4.262,
         "series": 0
        },
        {
         "1st Pub": 1935,
         "Author": "Elias Canetti",
         "Awards": "nan",
         "Genres": "['Fiction', 'Classics', 'Literature']",
         "Link": "https://www.goodreads.com/book/show/205189.Auto_da_F_",
         "N pag": 464,
         "Rating Count": 4878,
         "Rating Value": 4.06,
         "Review Count": 423,
         "Title": "Auto-da-Fé",
         "Unnamed: 0": 863,
         "_deepnote_index_column": 863,
         "mean_norm_ratings": 5.973333333333333,
         "minmax_norm_ratings": 6.376,
         "series": 0
        },
        {
         "1st Pub": 1988,
         "Author": "Paulo Coelho",
         "Awards": "4.0",
         "Genres": "['Fiction', 'Classics', 'Fantasy']",
         "Link": "https://www.goodreads.com/book/show/76620.Watership_Down",
         "N pag": 182,
         "Rating Count": 2175017,
         "Rating Value": 3.88,
         "Review Count": 82760,
         "Title": "The Alchemist",
         "Unnamed: 0": 40,
         "_deepnote_index_column": 40,
         "mean_norm_ratings": 4.764444444444443,
         "minmax_norm_ratings": 5.289,
         "series": 0
        },
        {
         "1st Pub": 1941,
         "Author": "Laura Ingalls Wilder",
         "Awards": "1.0",
         "Genres": "['Classics', 'Historical', 'Historical Fiction']",
         "Link": "https://www.goodreads.com/book/show/9014.The_Long_Walk",
         "N pag": 374,
         "Rating Count": 82384,
         "Rating Value": 4.17,
         "Review Count": 1271,
         "Title": "Little Town on the Prairie",
         "Unnamed: 0": 537,
         "_deepnote_index_column": 537,
         "mean_norm_ratings": 6.71111111111111,
         "minmax_norm_ratings": 7.04,
         "series": 1
        },
        {
         "1st Pub": 1974,
         "Author": "Robert M. Pirsig",
         "Awards": "1.0",
         "Genres": "['Philosophy', 'Fiction', 'Classics']",
         "Link": "https://www.goodreads.com/book/show/6.Harry_Potter_and_the_Goblet_of_Fire",
         "N pag": 540,
         "Rating Count": 205598,
         "Rating Value": 3.77,
         "Review Count": 8784,
         "Title": "Zen and the Art of Motorcycle Maintenance: An Inquiry Into Values",
         "Unnamed: 0": 180,
         "_deepnote_index_column": 180,
         "mean_norm_ratings": 4.026666666666666,
         "minmax_norm_ratings": 4.624,
         "series": 1
        },
        {
         "1st Pub": 1974,
         "Author": "John le Carré",
         "Awards": "nan",
         "Genres": "['Fiction', 'Mystery', 'Thriller']",
         "Link": "https://www.goodreads.com/book/show/92508.The_Bridge_of_San_Luis_Rey",
         "N pag": 381,
         "Rating Count": 77084,
         "Rating Value": 4.04,
         "Review Count": 4103,
         "Title": "Tinker, Tailor, Soldier, Spy",
         "Unnamed: 0": 485,
         "_deepnote_index_column": 485,
         "mean_norm_ratings": 5.838888888888889,
         "minmax_norm_ratings": 6.255,
         "series": 1
        }
       ],
       "rows_top": [
        {
         "1st Pub": 1940,
         "Author": "Raymond Chandler",
         "Awards": "nan",
         "Genres": "['Mystery', 'Fiction', 'Mystery']",
         "Link": "https://www.goodreads.com/book/show/15197.Maus_II",
         "N pag": 292,
         "Rating Count": 32699,
         "Rating Value": 4.13,
         "Review Count": 1747,
         "Title": "Farewell, My Lovely",
         "Unnamed: 0": 778,
         "_deepnote_index_column": 778,
         "mean_norm_ratings": 6.442222222222222,
         "minmax_norm_ratings": 6.7989999999999995,
         "series": 1
        },
        {
         "1st Pub": 1960,
         "Author": "Robert Bolt",
         "Awards": "1.0",
         "Genres": "['Plays', 'Classics', 'Drama']",
         "Link": "https://www.goodreads.com/book/show/403098.A_Man_for_All_Seasons",
         "N pag": 192,
         "Rating Count": 11236,
         "Rating Value": 3.92,
         "Review Count": 499,
         "Title": "A Man for All Seasons",
         "Unnamed: 0": 665,
         "_deepnote_index_column": 665,
         "mean_norm_ratings": 5.033333333333333,
         "minmax_norm_ratings": 5.53,
         "series": 0
        },
        {
         "1st Pub": 1961,
         "Author": "Muriel Spark",
         "Awards": "nan",
         "Genres": "['Fiction', 'Classics', 'Historical']",
         "Link": "https://www.goodreads.com/book/show/113091.A_Death_in_the_Family",
         "N pag": 150,
         "Rating Count": 43496,
         "Rating Value": 3.74,
         "Review Count": 2925,
         "Title": "The Prime of Miss Jean Brodie",
         "Unnamed: 0": 611,
         "_deepnote_index_column": 611,
         "mean_norm_ratings": 3.8255555555555554,
         "minmax_norm_ratings": 4.4430000000000005,
         "series": 0
        },
        {
         "1st Pub": 1990,
         "Author": "A.S. Byatt",
         "Awards": "3.0",
         "Genres": "['Fiction', 'Historical', 'Historical Fiction']",
         "Link": "https://www.goodreads.com/book/show/8716.Lincoln",
         "N pag": 555,
         "Rating Count": 74464,
         "Rating Value": 3.87,
         "Review Count": 4446,
         "Title": "Possession",
         "Unnamed: 0": 836,
         "_deepnote_index_column": 836,
         "mean_norm_ratings": 4.6977777777777785,
         "minmax_norm_ratings": 5.228,
         "series": 0
        },
        {
         "1st Pub": 1976,
         "Author": "Richard Dawkins",
         "Awards": "nan",
         "Genres": "['Science', 'Nonfiction', 'Science']",
         "Link": "https://www.goodreads.com/book/show/64216.Guards_Guards_",
         "N pag": 360,
         "Rating Count": 144041,
         "Rating Value": 4.14,
         "Review Count": 3754,
         "Title": "The Selfish Gene",
         "Unnamed: 0": 515,
         "_deepnote_index_column": 515,
         "mean_norm_ratings": 6.51,
         "minmax_norm_ratings": 6.859,
         "series": 0
        },
        {
         "1st Pub": 1946,
         "Author": "Robert Penn Warren",
         "Awards": "3.0",
         "Genres": "['Fiction', 'Classics', 'Historical']",
         "Link": "https://www.goodreads.com/book/show/48328.Revolutionary_Road",
         "N pag": 439,
         "Rating Count": 59559,
         "Rating Value": 4.06,
         "Review Count": 2656,
         "Title": "All the King's Men",
         "Unnamed: 0": 233,
         "_deepnote_index_column": 233,
         "mean_norm_ratings": 5.973333333333333,
         "minmax_norm_ratings": 6.376,
         "series": 0
        },
        {
         "1st Pub": 1999,
         "Author": "Jonathan Lethem",
         "Awards": "2.0",
         "Genres": "['Fiction', 'Mystery', 'Mystery']",
         "Link": "https://www.goodreads.com/book/show/328854.Motherless_Brooklyn",
         "N pag": 311,
         "Rating Count": 34964,
         "Rating Value": 3.88,
         "Review Count": 3125,
         "Title": "Motherless Brooklyn",
         "Unnamed: 0": 943,
         "_deepnote_index_column": 943,
         "mean_norm_ratings": 4.764444444444443,
         "minmax_norm_ratings": 5.289,
         "series": 0
        },
        {
         "1st Pub": 1905,
         "Author": "Emmuska Orczy",
         "Awards": "nan",
         "Genres": "['Classics', 'Historical', 'Historical Fiction']",
         "Link": "https://www.goodreads.com/book/show/136116.The_Scarlet_Pimpernel",
         "N pag": 182,
         "Rating Count": 126300,
         "Rating Value": 4.05,
         "Review Count": 6417,
         "Title": "The Scarlet Pimpernel",
         "Unnamed: 0": 303,
         "_deepnote_index_column": 303,
         "mean_norm_ratings": 5.905555555555555,
         "minmax_norm_ratings": 6.315,
         "series": 1
        },
        {
         "1st Pub": 1990,
         "Author": "Alan Moore",
         "Awards": "2.0",
         "Genres": "['Sequential Art', 'Graphic Novels', 'Sequential Art']",
         "Link": "https://www.goodreads.com/book/show/5805.V_for_Vendetta",
         "N pag": 296,
         "Rating Count": 270199,
         "Rating Value": 4.25,
         "Review Count": 5619,
         "Title": "V for Vendetta",
         "Unnamed: 0": 364,
         "_deepnote_index_column": 364,
         "mean_norm_ratings": 7.247777777777778,
         "minmax_norm_ratings": 7.523,
         "series": 1
        },
        {
         "1st Pub": 1919,
         "Author": "Sherwood Anderson",
         "Awards": "1.0",
         "Genres": "['Fiction', 'Classics', 'Short Stories']",
         "Link": "https://www.goodreads.com/book/show/4271.About_a_Boy",
         "N pag": 240,
         "Rating Count": 30441,
         "Rating Value": 3.84,
         "Review Count": 2317,
         "Title": "Winesburg, Ohio",
         "Unnamed: 0": 449,
         "_deepnote_index_column": 449,
         "mean_norm_ratings": 4.496666666666666,
         "minmax_norm_ratings": 5.047,
         "series": 0
        },
        {
         "1st Pub": 1929,
         "Author": "Alfred Döblin",
         "Awards": "nan",
         "Genres": "['Fiction', 'European Literature', 'German Literature']",
         "Link": "https://www.goodreads.com/book/show/672948.Arch_of_Triumph",
         "N pag": 457,
         "Rating Count": 7291,
         "Rating Value": 3.85,
         "Review Count": 481,
         "Title": "Berlin Alexanderplatz",
         "Unnamed: 0": 932,
         "_deepnote_index_column": 932,
         "mean_norm_ratings": 4.5633333333333335,
         "minmax_norm_ratings": 5.107,
         "series": 0
        },
        {
         "1st Pub": 1975,
         "Author": "E.L. Doctorow",
         "Awards": "2.0",
         "Genres": "['Fiction', 'Historical', 'Historical Fiction']",
         "Link": "https://www.goodreads.com/book/show/11566.The_Green_Mile",
         "N pag": 320,
         "Rating Count": 38408,
         "Rating Value": 3.88,
         "Review Count": 2534,
         "Title": "Ragtime",
         "Unnamed: 0": 321,
         "_deepnote_index_column": 321,
         "mean_norm_ratings": 4.764444444444443,
         "minmax_norm_ratings": 5.289,
         "series": 0
        },
        {
         "1st Pub": 1905,
         "Author": "O. Henry",
         "Awards": "nan",
         "Genres": "['Classics', 'Short Stories', 'Fiction']",
         "Link": "https://www.goodreads.com/book/show/143534.The_Gift_of_the_Magi",
         "N pag": 26,
         "Rating Count": 84226,
         "Rating Value": 4.1,
         "Review Count": 1997,
         "Title": "The Gift of the Magi",
         "Unnamed: 0": 457,
         "_deepnote_index_column": 457,
         "mean_norm_ratings": 6.2411111111111115,
         "minmax_norm_ratings": 6.617000000000001,
         "series": 0
        },
        {
         "1st Pub": 1955,
         "Author": "Crockett Johnson",
         "Awards": "nan",
         "Genres": "['Childrens', 'Picture Books', 'Childrens']",
         "Link": "https://www.goodreads.com/book/show/8682.Jitterbug_Perfume",
         "N pag": 64,
         "Rating Count": 129165,
         "Rating Value": 4.25,
         "Review Count": 2139,
         "Title": "Harold and the Purple Crayon",
         "Unnamed: 0": 395,
         "_deepnote_index_column": 395,
         "mean_norm_ratings": 7.247777777777778,
         "minmax_norm_ratings": 7.523,
         "series": 1
        },
        {
         "1st Pub": 1959,
         "Author": "Walter M. Miller Jr.",
         "Awards": "2.0",
         "Genres": "['Science Fiction', 'Fiction', 'Apocalyptic']",
         "Link": "https://www.goodreads.com/book/show/164154.A_Canticle_for_Leibowitz",
         "N pag": 334,
         "Rating Count": 95920,
         "Rating Value": 3.97,
         "Review Count": 4845,
         "Title": "A Canticle for Leibowitz",
         "Unnamed: 0": 329,
         "_deepnote_index_column": 329,
         "mean_norm_ratings": 5.368888888888888,
         "minmax_norm_ratings": 5.832000000000001,
         "series": 1
        },
        {
         "1st Pub": 1974,
         "Author": "James A. Michener",
         "Awards": "nan",
         "Genres": "['Historical', 'Historical Fiction', 'Fiction']",
         "Link": "https://www.goodreads.com/book/show/74403.The_Deptford_Trilogy",
         "N pag": 1056,
         "Rating Count": 39448,
         "Rating Value": 4.24,
         "Review Count": 909,
         "Title": "Centennial",
         "Unnamed: 0": 658,
         "_deepnote_index_column": 658,
         "mean_norm_ratings": 7.18111111111111,
         "minmax_norm_ratings": 7.462999999999999,
         "series": 0
        },
        {
         "1st Pub": 1971,
         "Author": "Beatrice Sparks",
         "Awards": "nan",
         "Genres": "['Young Adult', 'Fiction', 'Classics']",
         "Link": "https://www.goodreads.com/book/show/4953.A_Heartbreaking_Work_of_Staggering_Genius",
         "N pag": 213,
         "Rating Count": 238875,
         "Rating Value": 3.76,
         "Review Count": 10796,
         "Title": "Go Ask Alice",
         "Unnamed: 0": 279,
         "_deepnote_index_column": 279,
         "mean_norm_ratings": 3.9588888888888887,
         "minmax_norm_ratings": 4.564,
         "series": 0
        },
        {
         "1st Pub": 1993,
         "Author": "Diana Gabaldon",
         "Awards": "nan",
         "Genres": "['Historical', 'Historical Fiction', 'Romance']",
         "Link": "https://www.goodreads.com/book/show/11734.The_Human_Stain",
         "N pag": 870,
         "Rating Count": 263090,
         "Rating Value": 4.37,
         "Review Count": 11027,
         "Title": "Voyager",
         "Unnamed: 0": 481,
         "_deepnote_index_column": 481,
         "mean_norm_ratings": 8.053333333333333,
         "minmax_norm_ratings": 8.248,
         "series": 1
        },
        {
         "1st Pub": 1920,
         "Author": "F. Scott Fitzgerald",
         "Awards": "nan",
         "Genres": "['Classics', 'Fiction', 'Literature']",
         "Link": "https://www.goodreads.com/book/show/46165.This_Side_of_Paradise",
         "N pag": 275,
         "Rating Count": 63801,
         "Rating Value": 3.66,
         "Review Count": 3657,
         "Title": "This Side of Paradise",
         "Unnamed: 0": 555,
         "_deepnote_index_column": 555,
         "mean_norm_ratings": 3.287777777777777,
         "minmax_norm_ratings": 3.96,
         "series": 0
        },
        {
         "1st Pub": 1964,
         "Author": "C.G. Jung",
         "Awards": "nan",
         "Genres": "['Psychology', 'Nonfiction', 'Philosophy']",
         "Link": "https://www.goodreads.com/book/show/123632.Man_and_His_Symbols",
         "N pag": 415,
         "Rating Count": 21342,
         "Rating Value": 4.18,
         "Review Count": 777,
         "Title": "Man and His Symbols",
         "Unnamed: 0": 490,
         "_deepnote_index_column": 490,
         "mean_norm_ratings": 6.777777777777778,
         "minmax_norm_ratings": 7.101,
         "series": 0
        },
        {
         "1st Pub": 1934,
         "Author": "Agatha Christie",
         "Awards": "nan",
         "Genres": "['Mystery', 'Classics', 'Fiction']",
         "Link": "https://www.goodreads.com/book/show/853510.Murder_on_the_Orient_Express",
         "N pag": 274,
         "Rating Count": 397636,
         "Rating Value": 4.18,
         "Review Count": 24622,
         "Title": "Murder on the Orient Express",
         "Unnamed: 0": 160,
         "_deepnote_index_column": 160,
         "mean_norm_ratings": 6.777777777777778,
         "minmax_norm_ratings": 7.101,
         "series": 1
        },
        {
         "1st Pub": 1942,
         "Author": "C.S. Lewis",
         "Awards": "nan",
         "Genres": "['Christian', 'Nonfiction', 'Religion']",
         "Link": "https://www.goodreads.com/book/show/17716.Waiting_for_Godot",
         "N pag": 168,
         "Rating Count": 308704,
         "Rating Value": 4.32,
         "Review Count": 8725,
         "Title": "Mere Christianity",
         "Unnamed: 0": 87,
         "_deepnote_index_column": 87,
         "mean_norm_ratings": 7.717777777777778,
         "minmax_norm_ratings": 7.946000000000001,
         "series": 0
        },
        {
         "1st Pub": 1966,
         "Author": "Sylvia Plath",
         "Awards": "nan",
         "Genres": "['Poetry', 'Classics', 'Feminism']",
         "Link": "https://www.goodreads.com/book/show/395090.Ariel",
         "N pag": 105,
         "Rating Count": 55213,
         "Rating Value": 4.21,
         "Review Count": 1922,
         "Title": "Ariel",
         "Unnamed: 0": 529,
         "_deepnote_index_column": 529,
         "mean_norm_ratings": 6.98,
         "minmax_norm_ratings": 7.282,
         "series": 0
        },
        {
         "1st Pub": 1992,
         "Author": "Donna Tartt",
         "Awards": "2.0",
         "Genres": "['Fiction', 'Mystery', 'Contemporary']",
         "Link": "https://www.goodreads.com/book/show/13103.The_Celestine_Prophecy",
         "N pag": 559,
         "Rating Count": 330369,
         "Rating Value": 4.09,
         "Review Count": 24335,
         "Title": "The Secret History",
         "Unnamed: 0": 542,
         "_deepnote_index_column": 542,
         "mean_norm_ratings": 6.1744444444444415,
         "minmax_norm_ratings": 6.557,
         "series": 0
        },
        {
         "1st Pub": 1969,
         "Author": "Vladimir Nabokov",
         "Awards": "nan",
         "Genres": "['Fiction', 'Classics', 'Cultural']",
         "Link": "https://www.goodreads.com/book/show/12187.Ada_or_Ardor",
         "N pag": 606,
         "Rating Count": 9615,
         "Rating Value": 4.14,
         "Review Count": 743,
         "Title": "Ada, or Ardor: A Family Chronicle",
         "Unnamed: 0": 790,
         "_deepnote_index_column": 790,
         "mean_norm_ratings": 6.51,
         "minmax_norm_ratings": 6.859,
         "series": 0
        },
        {
         "1st Pub": 1923,
         "Author": "Kahlil Gibran",
         "Awards": "nan",
         "Genres": "['Poetry', 'Philosophy', 'Classics']",
         "Link": "https://www.goodreads.com/book/show/2547.The_Prophet",
         "N pag": 127,
         "Rating Count": 241174,
         "Rating Value": 4.22,
         "Review Count": 9914,
         "Title": "The Prophet",
         "Unnamed: 0": 121,
         "_deepnote_index_column": 121,
         "mean_norm_ratings": 7.046666666666668,
         "minmax_norm_ratings": 7.3420000000000005,
         "series": 0
        },
        {
         "1st Pub": 1933,
         "Author": "Bruno Schulz",
         "Awards": "2.0",
         "Genres": "['Fiction', 'Short Stories', 'European Literature']",
         "Link": "https://www.goodreads.com/book/show/4645.The_Snows_of_Kilimanjaro_and_Other_Stories",
         "N pag": 160,
         "Rating Count": 7034,
         "Rating Value": 4.13,
         "Review Count": 599,
         "Title": "The Street of Crocodiles",
         "Unnamed: 0": 992,
         "_deepnote_index_column": 992,
         "mean_norm_ratings": 6.442222222222222,
         "minmax_norm_ratings": 6.7989999999999995,
         "series": 0
        },
        {
         "1st Pub": 1984,
         "Author": "Martin Amis",
         "Awards": "nan",
         "Genres": "['Fiction', 'Classics', 'Contemporary']",
         "Link": "https://www.goodreads.com/book/show/23887.The_Autumn_of_the_Patriarch",
         "N pag": 394,
         "Rating Count": 23144,
         "Rating Value": 3.7,
         "Review Count": 1065,
         "Title": "Money",
         "Unnamed: 0": 853,
         "_deepnote_index_column": 853,
         "mean_norm_ratings": 3.556666666666666,
         "minmax_norm_ratings": 4.2010000000000005,
         "series": 0
        },
        {
         "1st Pub": 1908,
         "Author": "E.M. Forster",
         "Awards": "nan",
         "Genres": "['Classics', 'Fiction', 'Historical']",
         "Link": "https://www.goodreads.com/book/show/5359.The_Client",
         "N pag": 449,
         "Rating Count": 2748,
         "Rating Value": 4.11,
         "Review Count": 126,
         "Title": "A Room with a View / Howards End",
         "Unnamed: 0": 760,
         "_deepnote_index_column": 760,
         "mean_norm_ratings": 6.308888888888887,
         "minmax_norm_ratings": 6.678,
         "series": 0
        },
        {
         "1st Pub": 1997,
         "Author": "J.K. Rowling",
         "Awards": "28.0",
         "Genres": "['Fantasy', 'Fiction', 'Young Adult']",
         "Link": "https://www.goodreads.com/book/show/4671.The_Great_Gatsby",
         "N pag": 309,
         "Rating Count": 7281482,
         "Rating Value": 4.48,
         "Review Count": 115354,
         "Title": "Harry Potter and the Sorcerer's Stone",
         "Unnamed: 0": 3,
         "_deepnote_index_column": 3,
         "mean_norm_ratings": 8.79111111111111,
         "minmax_norm_ratings": 8.913,
         "series": 1
        },
        {
         "1st Pub": 1988,
         "Author": "Roald Dahl",
         "Awards": "16.0",
         "Genres": "['Childrens', 'Fiction', 'Classics']",
         "Link": "https://www.goodreads.com/book/show/402093.Sh_gun",
         "N pag": 240,
         "Rating Count": 674293,
         "Rating Value": 4.32,
         "Review Count": 17074,
         "Title": "Matilda",
         "Unnamed: 0": 132,
         "_deepnote_index_column": 132,
         "mean_norm_ratings": 7.717777777777778,
         "minmax_norm_ratings": 7.946000000000001,
         "series": 0
        },
        {
         "1st Pub": 1994,
         "Author": "Cormac McCarthy",
         "Awards": "nan",
         "Genres": "['Fiction', 'Westerns', 'Literature']",
         "Link": "https://www.goodreads.com/book/show/6163.The_Border_Trilogy",
         "N pag": 1040,
         "Rating Count": 5643,
         "Rating Value": 4.44,
         "Review Count": 327,
         "Title": "The Border Trilogy: All the Pretty Horses, The Crossing, Cities of the Plain",
         "Unnamed: 0": 838,
         "_deepnote_index_column": 838,
         "mean_norm_ratings": 8.523333333333332,
         "minmax_norm_ratings": 8.671,
         "series": 1
        },
        {
         "1st Pub": 1989,
         "Author": "Kazuo Ishiguro",
         "Awards": "1.0",
         "Genres": "['Fiction', 'Historical', 'Historical Fiction']",
         "Link": "https://www.goodreads.com/book/show/7572.Even_Cowgirls_Get_the_Blues",
         "N pag": 258,
         "Rating Count": 205456,
         "Rating Value": 4.13,
         "Review Count": 14536,
         "Title": "The Remains of the Day",
         "Unnamed: 0": 494,
         "_deepnote_index_column": 494,
         "mean_norm_ratings": 6.442222222222222,
         "minmax_norm_ratings": 6.7989999999999995,
         "series": 0
        },
        {
         "1st Pub": 1995,
         "Author": "Dave Pelzer",
         "Awards": "3.0",
         "Genres": "['Nonfiction', 'Autobiography', 'Memoir']",
         "Link": "https://www.goodreads.com/book/show/60748.A_Child_Called_It_",
         "N pag": 184,
         "Rating Count": 384565,
         "Rating Value": 4.11,
         "Review Count": 16018,
         "Title": "A Child Called \"It\"",
         "Unnamed: 0": 747,
         "_deepnote_index_column": 747,
         "mean_norm_ratings": 6.308888888888887,
         "minmax_norm_ratings": 6.678,
         "series": 1
        },
        {
         "1st Pub": 1983,
         "Author": "Mark Helprin",
         "Awards": "nan",
         "Genres": "['Fiction', 'Fantasy', 'Historical']",
         "Link": "https://www.goodreads.com/book/show/12967.Winter_s_Tale",
         "N pag": 748,
         "Rating Count": 26494,
         "Rating Value": 3.5,
         "Review Count": 4189,
         "Title": "Winter's Tale",
         "Unnamed: 0": 400,
         "_deepnote_index_column": 400,
         "mean_norm_ratings": 2.2144444444444438,
         "minmax_norm_ratings": 2.9930000000000003,
         "series": 0
        }
       ]
      },
      "text/html": [
       "<div>\n",
       "<style scoped>\n",
       "    .dataframe tbody tr th:only-of-type {\n",
       "        vertical-align: middle;\n",
       "    }\n",
       "\n",
       "    .dataframe tbody tr th {\n",
       "        vertical-align: top;\n",
       "    }\n",
       "\n",
       "    .dataframe thead th {\n",
       "        text-align: right;\n",
       "    }\n",
       "</style>\n",
       "<table border=\"1\" class=\"dataframe\">\n",
       "  <thead>\n",
       "    <tr style=\"text-align: right;\">\n",
       "      <th></th>\n",
       "      <th>Unnamed: 0</th>\n",
       "      <th>Title</th>\n",
       "      <th>Author</th>\n",
       "      <th>Rating Count</th>\n",
       "      <th>Review Count</th>\n",
       "      <th>Rating Value</th>\n",
       "      <th>N pag</th>\n",
       "      <th>1st Pub</th>\n",
       "      <th>series</th>\n",
       "      <th>Genres</th>\n",
       "      <th>Awards</th>\n",
       "      <th>minmax_norm_ratings</th>\n",
       "      <th>mean_norm_ratings</th>\n",
       "      <th>Link</th>\n",
       "    </tr>\n",
       "  </thead>\n",
       "  <tbody>\n",
       "    <tr>\n",
       "      <th>778</th>\n",
       "      <td>778</td>\n",
       "      <td>Farewell, My Lovely</td>\n",
       "      <td>Raymond Chandler</td>\n",
       "      <td>32699</td>\n",
       "      <td>1747</td>\n",
       "      <td>4.13</td>\n",
       "      <td>292.0</td>\n",
       "      <td>1940.0</td>\n",
       "      <td>1</td>\n",
       "      <td>['Mystery', 'Fiction', 'Mystery']</td>\n",
       "      <td>NaN</td>\n",
       "      <td>6.799</td>\n",
       "      <td>6.442222</td>\n",
       "      <td>https://www.goodreads.com/book/show/15197.Maus_II</td>\n",
       "    </tr>\n",
       "    <tr>\n",
       "      <th>665</th>\n",
       "      <td>665</td>\n",
       "      <td>A Man for All Seasons</td>\n",
       "      <td>Robert Bolt</td>\n",
       "      <td>11236</td>\n",
       "      <td>499</td>\n",
       "      <td>3.92</td>\n",
       "      <td>192.0</td>\n",
       "      <td>1960.0</td>\n",
       "      <td>0</td>\n",
       "      <td>['Plays', 'Classics', 'Drama']</td>\n",
       "      <td>1.0</td>\n",
       "      <td>5.530</td>\n",
       "      <td>5.033333</td>\n",
       "      <td>https://www.goodreads.com/book/show/403098.A_M...</td>\n",
       "    </tr>\n",
       "    <tr>\n",
       "      <th>611</th>\n",
       "      <td>611</td>\n",
       "      <td>The Prime of Miss Jean Brodie</td>\n",
       "      <td>Muriel Spark</td>\n",
       "      <td>43496</td>\n",
       "      <td>2925</td>\n",
       "      <td>3.74</td>\n",
       "      <td>150.0</td>\n",
       "      <td>1961.0</td>\n",
       "      <td>0</td>\n",
       "      <td>['Fiction', 'Classics', 'Historical']</td>\n",
       "      <td>NaN</td>\n",
       "      <td>4.443</td>\n",
       "      <td>3.825556</td>\n",
       "      <td>https://www.goodreads.com/book/show/113091.A_D...</td>\n",
       "    </tr>\n",
       "    <tr>\n",
       "      <th>836</th>\n",
       "      <td>836</td>\n",
       "      <td>Possession</td>\n",
       "      <td>A.S. Byatt</td>\n",
       "      <td>74464</td>\n",
       "      <td>4446</td>\n",
       "      <td>3.87</td>\n",
       "      <td>555.0</td>\n",
       "      <td>1990.0</td>\n",
       "      <td>0</td>\n",
       "      <td>['Fiction', 'Historical', 'Historical Fiction']</td>\n",
       "      <td>3.0</td>\n",
       "      <td>5.228</td>\n",
       "      <td>4.697778</td>\n",
       "      <td>https://www.goodreads.com/book/show/8716.Lincoln</td>\n",
       "    </tr>\n",
       "    <tr>\n",
       "      <th>515</th>\n",
       "      <td>515</td>\n",
       "      <td>The Selfish Gene</td>\n",
       "      <td>Richard Dawkins</td>\n",
       "      <td>144041</td>\n",
       "      <td>3754</td>\n",
       "      <td>4.14</td>\n",
       "      <td>360.0</td>\n",
       "      <td>1976.0</td>\n",
       "      <td>0</td>\n",
       "      <td>['Science', 'Nonfiction', 'Science']</td>\n",
       "      <td>NaN</td>\n",
       "      <td>6.859</td>\n",
       "      <td>6.510000</td>\n",
       "      <td>https://www.goodreads.com/book/show/64216.Guar...</td>\n",
       "    </tr>\n",
       "    <tr>\n",
       "      <th>...</th>\n",
       "      <td>...</td>\n",
       "      <td>...</td>\n",
       "      <td>...</td>\n",
       "      <td>...</td>\n",
       "      <td>...</td>\n",
       "      <td>...</td>\n",
       "      <td>...</td>\n",
       "      <td>...</td>\n",
       "      <td>...</td>\n",
       "      <td>...</td>\n",
       "      <td>...</td>\n",
       "      <td>...</td>\n",
       "      <td>...</td>\n",
       "      <td>...</td>\n",
       "    </tr>\n",
       "    <tr>\n",
       "      <th>863</th>\n",
       "      <td>863</td>\n",
       "      <td>Auto-da-Fé</td>\n",
       "      <td>Elias Canetti</td>\n",
       "      <td>4878</td>\n",
       "      <td>423</td>\n",
       "      <td>4.06</td>\n",
       "      <td>464.0</td>\n",
       "      <td>1935.0</td>\n",
       "      <td>0</td>\n",
       "      <td>['Fiction', 'Classics', 'Literature']</td>\n",
       "      <td>NaN</td>\n",
       "      <td>6.376</td>\n",
       "      <td>5.973333</td>\n",
       "      <td>https://www.goodreads.com/book/show/205189.Aut...</td>\n",
       "    </tr>\n",
       "    <tr>\n",
       "      <th>40</th>\n",
       "      <td>40</td>\n",
       "      <td>The Alchemist</td>\n",
       "      <td>Paulo Coelho</td>\n",
       "      <td>2175017</td>\n",
       "      <td>82760</td>\n",
       "      <td>3.88</td>\n",
       "      <td>182.0</td>\n",
       "      <td>1988.0</td>\n",
       "      <td>0</td>\n",
       "      <td>['Fiction', 'Classics', 'Fantasy']</td>\n",
       "      <td>4.0</td>\n",
       "      <td>5.289</td>\n",
       "      <td>4.764444</td>\n",
       "      <td>https://www.goodreads.com/book/show/76620.Wate...</td>\n",
       "    </tr>\n",
       "    <tr>\n",
       "      <th>537</th>\n",
       "      <td>537</td>\n",
       "      <td>Little Town on the Prairie</td>\n",
       "      <td>Laura Ingalls Wilder</td>\n",
       "      <td>82384</td>\n",
       "      <td>1271</td>\n",
       "      <td>4.17</td>\n",
       "      <td>374.0</td>\n",
       "      <td>1941.0</td>\n",
       "      <td>1</td>\n",
       "      <td>['Classics', 'Historical', 'Historical Fiction']</td>\n",
       "      <td>1.0</td>\n",
       "      <td>7.040</td>\n",
       "      <td>6.711111</td>\n",
       "      <td>https://www.goodreads.com/book/show/9014.The_L...</td>\n",
       "    </tr>\n",
       "    <tr>\n",
       "      <th>180</th>\n",
       "      <td>180</td>\n",
       "      <td>Zen and the Art of Motorcycle Maintenance: An ...</td>\n",
       "      <td>Robert M. Pirsig</td>\n",
       "      <td>205598</td>\n",
       "      <td>8784</td>\n",
       "      <td>3.77</td>\n",
       "      <td>540.0</td>\n",
       "      <td>1974.0</td>\n",
       "      <td>1</td>\n",
       "      <td>['Philosophy', 'Fiction', 'Classics']</td>\n",
       "      <td>1.0</td>\n",
       "      <td>4.624</td>\n",
       "      <td>4.026667</td>\n",
       "      <td>https://www.goodreads.com/book/show/6.Harry_Po...</td>\n",
       "    </tr>\n",
       "    <tr>\n",
       "      <th>485</th>\n",
       "      <td>485</td>\n",
       "      <td>Tinker, Tailor, Soldier, Spy</td>\n",
       "      <td>John le Carré</td>\n",
       "      <td>77084</td>\n",
       "      <td>4103</td>\n",
       "      <td>4.04</td>\n",
       "      <td>381.0</td>\n",
       "      <td>1974.0</td>\n",
       "      <td>1</td>\n",
       "      <td>['Fiction', 'Mystery', 'Thriller']</td>\n",
       "      <td>NaN</td>\n",
       "      <td>6.255</td>\n",
       "      <td>5.838889</td>\n",
       "      <td>https://www.goodreads.com/book/show/92508.The_...</td>\n",
       "    </tr>\n",
       "  </tbody>\n",
       "</table>\n",
       "<p>100 rows × 14 columns</p>\n",
       "</div>"
      ],
      "text/plain": [
       "     Unnamed: 0                                              Title  \\\n",
       "778         778                                Farewell, My Lovely   \n",
       "665         665                              A Man for All Seasons   \n",
       "611         611                      The Prime of Miss Jean Brodie   \n",
       "836         836                                         Possession   \n",
       "515         515                                   The Selfish Gene   \n",
       "..          ...                                                ...   \n",
       "863         863                                         Auto-da-Fé   \n",
       "40           40                                      The Alchemist   \n",
       "537         537                         Little Town on the Prairie   \n",
       "180         180  Zen and the Art of Motorcycle Maintenance: An ...   \n",
       "485         485                       Tinker, Tailor, Soldier, Spy   \n",
       "\n",
       "                   Author  Rating Count  Review Count  Rating Value  N pag  \\\n",
       "778      Raymond Chandler         32699          1747          4.13  292.0   \n",
       "665           Robert Bolt         11236           499          3.92  192.0   \n",
       "611          Muriel Spark         43496          2925          3.74  150.0   \n",
       "836            A.S. Byatt         74464          4446          3.87  555.0   \n",
       "515       Richard Dawkins        144041          3754          4.14  360.0   \n",
       "..                    ...           ...           ...           ...    ...   \n",
       "863         Elias Canetti          4878           423          4.06  464.0   \n",
       "40           Paulo Coelho       2175017         82760          3.88  182.0   \n",
       "537  Laura Ingalls Wilder         82384          1271          4.17  374.0   \n",
       "180      Robert M. Pirsig        205598          8784          3.77  540.0   \n",
       "485         John le Carré         77084          4103          4.04  381.0   \n",
       "\n",
       "     1st Pub  series                                            Genres  \\\n",
       "778   1940.0       1                 ['Mystery', 'Fiction', 'Mystery']   \n",
       "665   1960.0       0                    ['Plays', 'Classics', 'Drama']   \n",
       "611   1961.0       0             ['Fiction', 'Classics', 'Historical']   \n",
       "836   1990.0       0   ['Fiction', 'Historical', 'Historical Fiction']   \n",
       "515   1976.0       0              ['Science', 'Nonfiction', 'Science']   \n",
       "..       ...     ...                                               ...   \n",
       "863   1935.0       0             ['Fiction', 'Classics', 'Literature']   \n",
       "40    1988.0       0                ['Fiction', 'Classics', 'Fantasy']   \n",
       "537   1941.0       1  ['Classics', 'Historical', 'Historical Fiction']   \n",
       "180   1974.0       1             ['Philosophy', 'Fiction', 'Classics']   \n",
       "485   1974.0       1                ['Fiction', 'Mystery', 'Thriller']   \n",
       "\n",
       "     Awards  minmax_norm_ratings  mean_norm_ratings  \\\n",
       "778     NaN                6.799           6.442222   \n",
       "665     1.0                5.530           5.033333   \n",
       "611     NaN                4.443           3.825556   \n",
       "836     3.0                5.228           4.697778   \n",
       "515     NaN                6.859           6.510000   \n",
       "..      ...                  ...                ...   \n",
       "863     NaN                6.376           5.973333   \n",
       "40      4.0                5.289           4.764444   \n",
       "537     1.0                7.040           6.711111   \n",
       "180     1.0                4.624           4.026667   \n",
       "485     NaN                6.255           5.838889   \n",
       "\n",
       "                                                  Link  \n",
       "778  https://www.goodreads.com/book/show/15197.Maus_II  \n",
       "665  https://www.goodreads.com/book/show/403098.A_M...  \n",
       "611  https://www.goodreads.com/book/show/113091.A_D...  \n",
       "836   https://www.goodreads.com/book/show/8716.Lincoln  \n",
       "515  https://www.goodreads.com/book/show/64216.Guar...  \n",
       "..                                                 ...  \n",
       "863  https://www.goodreads.com/book/show/205189.Aut...  \n",
       "40   https://www.goodreads.com/book/show/76620.Wate...  \n",
       "537  https://www.goodreads.com/book/show/9014.The_L...  \n",
       "180  https://www.goodreads.com/book/show/6.Harry_Po...  \n",
       "485  https://www.goodreads.com/book/show/92508.The_...  \n",
       "\n",
       "[100 rows x 14 columns]"
      ]
     },
     "execution_count": 10,
     "metadata": {},
     "output_type": "execute_result"
    }
   ],
   "source": [
    "sample_df"
   ]
  },
  {
   "cell_type": "code",
   "execution_count": 11,
   "metadata": {
    "cell_id": "00005-eab56bd1-7218-47b0-ab33-89ac2e4a763a",
    "deepnote_cell_type": "code",
    "deepnote_to_be_reexecuted": false,
    "execution_millis": 0,
    "execution_start": 1610537151529,
    "source_hash": "90442593",
    "tags": []
   },
   "outputs": [
    {
     "name": "stdout",
     "output_type": "stream",
     "text": [
      "[2.9930000000000003, 3.537, 3.779, 3.96, 4.2010000000000005, 4.262, 4.383, 4.4430000000000005, 4.564, 4.564, 4.624, 5.047, 5.107, 5.107, 5.167999999999999, 5.228, 5.228, 5.289, 5.289, 5.289, 5.289, 5.349, 5.409, 5.47, 5.53, 5.53, 5.53, 5.591, 5.591, 5.772, 5.832000000000001, 5.832000000000001, 5.832000000000001, 5.832000000000001, 5.893, 5.952999999999999, 5.952999999999999, 6.074, 6.255, 6.315, 6.315, 6.315, 6.376, 6.376, 6.376, 6.376, 6.436, 6.497000000000001, 6.497000000000001, 6.557, 6.557, 6.617000000000001, 6.617000000000001, 6.617000000000001, 6.678, 6.678, 6.678, 6.7379999999999995, 6.7989999999999995, 6.7989999999999995, 6.7989999999999995, 6.859, 6.859, 6.859, 6.919, 6.98, 6.98, 6.98, 6.98, 7.04, 7.101, 7.101, 7.101, 7.101, 7.101, 7.101, 7.1610000000000005, 7.221, 7.282, 7.3420000000000005, 7.3420000000000005, 7.403, 7.403, 7.462999999999999, 7.462999999999999, 7.523, 7.523, 7.584, 7.584, 7.705, 7.886, 7.946000000000001, 7.946000000000001, 8.187999999999999, 8.248, 8.611, 8.671, 8.792, 8.852, 8.913]\n"
     ]
    }
   ],
   "source": [
    "minmax_list = sample_df[\"minmax_norm_ratings\"].tolist()\n",
    "minmax_list.sort()\n",
    "print(minmax_list)"
   ]
  },
  {
   "cell_type": "code",
   "execution_count": 12,
   "metadata": {
    "cell_id": "00006-24a0484b-b16a-4333-b849-efaeb4ae9e2c",
    "deepnote_cell_type": "code",
    "deepnote_to_be_reexecuted": false,
    "execution_millis": 1,
    "execution_start": 1610537154213,
    "source_hash": "2f9c7420",
    "tags": []
   },
   "outputs": [
    {
     "name": "stdout",
     "output_type": "stream",
     "text": [
      "8.913\n",
      "2.9930000000000003\n"
     ]
    }
   ],
   "source": [
    "print(max(minmax_list))\n",
    "print(min(minmax_list))"
   ]
  },
  {
   "cell_type": "code",
   "execution_count": 13,
   "metadata": {
    "cell_id": "00006-06113d1a-2cc9-46b7-8997-a920e7b0f5dc",
    "deepnote_cell_type": "code",
    "deepnote_to_be_reexecuted": false,
    "execution_millis": 3,
    "execution_start": 1610537156847,
    "source_hash": "e41c827a",
    "tags": []
   },
   "outputs": [
    {
     "name": "stdout",
     "output_type": "stream",
     "text": [
      "[2.2144444444444438, 2.818888888888889, 3.0866666666666664, 3.287777777777777, 3.556666666666666, 3.623333333333333, 3.7577777777777777, 3.8255555555555554, 3.9588888888888887, 3.9588888888888887, 4.026666666666666, 4.496666666666666, 4.5633333333333335, 4.5633333333333335, 4.63111111111111, 4.6977777777777785, 4.6977777777777785, 4.764444444444443, 4.764444444444443, 4.764444444444443, 4.764444444444443, 4.832222222222222, 4.898888888888889, 4.966666666666667, 5.033333333333333, 5.033333333333333, 5.033333333333333, 5.1, 5.1, 5.3022222222222215, 5.368888888888888, 5.368888888888888, 5.368888888888888, 5.368888888888888, 5.4355555555555535, 5.503333333333333, 5.503333333333333, 5.637777777777778, 5.838888888888889, 5.905555555555555, 5.905555555555555, 5.905555555555555, 5.973333333333333, 5.973333333333333, 5.973333333333333, 5.973333333333333, 6.04, 6.1066666666666665, 6.1066666666666665, 6.1744444444444415, 6.1744444444444415, 6.2411111111111115, 6.2411111111111115, 6.2411111111111115, 6.308888888888887, 6.308888888888887, 6.308888888888887, 6.375555555555557, 6.442222222222222, 6.442222222222222, 6.442222222222222, 6.51, 6.51, 6.51, 6.576666666666666, 6.644444444444443, 6.644444444444443, 6.644444444444443, 6.644444444444443, 6.71111111111111, 6.777777777777778, 6.777777777777778, 6.777777777777778, 6.777777777777778, 6.777777777777778, 6.777777777777778, 6.8455555555555545, 6.912222222222222, 6.98, 7.046666666666668, 7.046666666666668, 7.113333333333332, 7.113333333333332, 7.18111111111111, 7.18111111111111, 7.247777777777778, 7.247777777777778, 7.315555555555554, 7.315555555555554, 7.448888888888887, 7.651111111111112, 7.717777777777778, 7.717777777777778, 7.986666666666666, 8.053333333333333, 8.455555555555557, 8.523333333333332, 8.657777777777778, 8.724444444444442, 8.79111111111111]\n"
     ]
    }
   ],
   "source": [
    "mean_norm = sample_df[\"mean_norm_ratings\"].tolist()\n",
    "mean_norm.sort()\n",
    "print(mean_norm)"
   ]
  },
  {
   "cell_type": "code",
   "execution_count": 14,
   "metadata": {
    "cell_id": "00008-45c5ad5e-51dc-4a59-b817-d35d59edc54d",
    "deepnote_cell_type": "code",
    "deepnote_to_be_reexecuted": false,
    "execution_millis": 1,
    "execution_start": 1610537159776,
    "source_hash": "d676b868",
    "tags": []
   },
   "outputs": [
    {
     "name": "stdout",
     "output_type": "stream",
     "text": [
      "8.79111111111111\n",
      "2.2144444444444438\n"
     ]
    }
   ],
   "source": [
    "print(max(mean_norm))\n",
    "print(min(mean_norm))"
   ]
  },
  {
   "cell_type": "code",
   "execution_count": 18,
   "metadata": {
    "cell_id": "00007-66ad77a0-4389-4609-960c-ea1c7320b9b3",
    "deepnote_cell_type": "code",
    "deepnote_to_be_reexecuted": false,
    "execution_millis": 480,
    "execution_start": 1610537369113,
    "source_hash": "462eca33",
    "tags": []
   },
   "outputs": [
    {
     "name": "stderr",
     "output_type": "stream",
     "text": [
      "/shared-libs/python3.7/py/lib/python3.7/site-packages/seaborn/distributions.py:2557: FutureWarning: `distplot` is a deprecated function and will be removed in a future version. Please adapt your code to use either `displot` (a figure-level function with similar flexibility) or `histplot` (an axes-level function for histograms).\n",
      "  warnings.warn(msg, FutureWarning)\n"
     ]
    },
    {
     "data": {
      "image/png": "[encoded data removed]",
      "text/plain": [
       "<Figure size 1080x720 with 1 Axes>"
      ]
     },
     "metadata": {
      "needs_background": "light"
     },
     "output_type": "display_data"
    }
   ],
   "source": [
    "# Distribution plot of minmax normal distribution\n",
    "plt.figure(figsize=(15,10))\n",
    "sns.distplot(minmax_list, label='MinMax Norm', bins=20)\n",
    "c=plt.legend()\n",
    "plt.title(\"Min-Max Norm Distribution\")\n",
    "plt.savefig('minmax_norm.jpg')"
   ]
  },
  {
   "cell_type": "code",
   "execution_count": 19,
   "metadata": {
    "cell_id": "00008-a39aa8e3-aab4-4c33-8f7b-563f393b41d9",
    "deepnote_cell_type": "code",
    "deepnote_to_be_reexecuted": false,
    "execution_millis": 502,
    "execution_start": 1610537374727,
    "source_hash": "cc23e5bc",
    "tags": []
   },
   "outputs": [
    {
     "name": "stderr",
     "output_type": "stream",
     "text": [
      "/shared-libs/python3.7/py/lib/python3.7/site-packages/seaborn/distributions.py:2557: FutureWarning: `distplot` is a deprecated function and will be removed in a future version. Please adapt your code to use either `displot` (a figure-level function with similar flexibility) or `histplot` (an axes-level function for histograms).\n",
      "  warnings.warn(msg, FutureWarning)\n"
     ]
    },
    {
     "data": {
      "image/png": "[encoded data removed]",
      "text/plain": [
       "<Figure size 1080x720 with 1 Axes>"
      ]
     },
     "metadata": {
      "needs_background": "light"
     },
     "output_type": "display_data"
    }
   ],
   "source": [
    "# Distribution plot of mean normal distribution\n",
    "plt.figure(figsize=(15,10))\n",
    "sns.distplot(mean_norm, label='Mean Norm', color='red', bins=20)\n",
    "c=plt.legend()\n",
    "plt.title(\"Mean Norm Distribution\")\n",
    "plt.xticks(range(1, 10))\n",
    "plt.savefig('mean_norm.jpg')"
   ]
  },
  {
   "cell_type": "code",
   "execution_count": 20,
   "metadata": {
    "cell_id": "00009-3e0423e0-168e-4e36-9d83-02e0a24b1e38",
    "deepnote_cell_type": "code",
    "deepnote_to_be_reexecuted": false,
    "execution_millis": 562,
    "execution_start": 1610537380390,
    "source_hash": "8fb236b1",
    "tags": []
   },
   "outputs": [
    {
     "name": "stderr",
     "output_type": "stream",
     "text": [
      "/shared-libs/python3.7/py/lib/python3.7/site-packages/seaborn/distributions.py:2557: FutureWarning: `distplot` is a deprecated function and will be removed in a future version. Please adapt your code to use either `displot` (a figure-level function with similar flexibility) or `histplot` (an axes-level function for histograms).\n",
      "  warnings.warn(msg, FutureWarning)\n",
      "/shared-libs/python3.7/py/lib/python3.7/site-packages/seaborn/distributions.py:2557: FutureWarning: `distplot` is a deprecated function and will be removed in a future version. Please adapt your code to use either `displot` (a figure-level function with similar flexibility) or `histplot` (an axes-level function for histograms).\n",
      "  warnings.warn(msg, FutureWarning)\n"
     ]
    },
    {
     "data": {
      "image/png": "[encoded data removed]",
      "text/plain": [
       "<Figure size 1080x720 with 1 Axes>"
      ]
     },
     "metadata": {
      "needs_background": "light"
     },
     "output_type": "display_data"
    }
   ],
   "source": [
    "# Distribution plot of both normal distributions\n",
    "plt.figure(figsize=(15,10))\n",
    "sns.distplot(minmax_list, label='MinMax Norm', color='blue')\n",
    "sns.distplot(mean_norm, label='Mean Norm', color='red')\n",
    "c=plt.legend()\n",
    "plt.title(\"Comparison of Norm Distributions\")\n",
    "plt.savefig('norm_dists.jpg')"
   ]
  }
 ],
 "metadata": {
  "deepnote_execution_queue": [],
  "deepnote_notebook_id": "edc2246f-6b52-4864-9193-7afea25e9bf9",
  "kernelspec": {
   "display_name": "Python 3",
   "language": "python",
   "name": "python3"
  },
  "language_info": {
   "codemirror_mode": {
    "name": "ipython",
    "version": 3
   },
   "file_extension": ".py",
   "mimetype": "text/x-python",
   "name": "python",
   "nbconvert_exporter": "python",
   "pygments_lexer": "ipython3",
   "version": "3.8.3"
  }
 },
 "nbformat": 4,
 "nbformat_minor": 2
}
