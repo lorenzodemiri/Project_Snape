{
 "cells": [
  {
   "cell_type": "code",
   "execution_count": 1,
   "metadata": {},
   "outputs": [],
   "source": [
    "import pandas as pd"
   ]
  },
  {
   "cell_type": "code",
   "execution_count": 4,
   "metadata": {},
   "outputs": [],
   "source": [
    "df = pd.read_csv('./resources/books.csv')"
   ]
  },
  {
   "cell_type": "code",
   "execution_count": 5,
   "metadata": {},
   "outputs": [
    {
     "name": "stdout",
     "output_type": "stream",
     "text": [
      "Harry Potter and the Prisoner of Azkaban\n",
      "9.456\n"
     ]
    }
   ],
   "source": [
    "def author_high_rating(author):\n",
    "    highest_rating = (df[(df == author).any(axis=1)]['minmax_norm_ratings'].max())\n",
    "    title = df.loc[(df.Author == author) & (df['minmax_norm_ratings'] == highest_rating), 'Title']\n",
    "    print(title.item())\n",
    "    print(highest_rating)\n",
    "    \n",
    "author_high_rating('J.K. Rowling')"
   ]
  }
 ],
 "metadata": {
  "kernelspec": {
   "display_name": "Python 3",
   "language": "python",
   "name": "python3"
  },
  "language_info": {
   "codemirror_mode": {
    "name": "ipython",
    "version": 3
   },
   "file_extension": ".py",
   "mimetype": "text/x-python",
   "name": "python",
   "nbconvert_exporter": "python",
   "pygments_lexer": "ipython3",
   "version": "3.6.10"
  }
 },
 "nbformat": 4,
 "nbformat_minor": 2
}
